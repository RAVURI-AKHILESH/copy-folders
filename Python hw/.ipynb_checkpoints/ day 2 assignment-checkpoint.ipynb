{
 "cells": [
  {
   "cell_type": "markdown",
   "metadata": {},
   "source": [
    "#                       DAY 2 ASSIGNMENT"
   ]
  },
  {
   "cell_type": "markdown",
   "metadata": {},
   "source": [
    "# Assignment 1\n",
    "### String"
   ]
  },
  {
   "cell_type": "code",
   "execution_count": null,
   "metadata": {},
   "outputs": [],
   "source": []
  },
  {
   "cell_type": "code",
   "execution_count": 21,
   "metadata": {},
   "outputs": [
    {
     "name": "stdout",
     "output_type": "stream",
     "text": [
      "PytHon couRse\n",
      "Python Course\n",
      "python course\n",
      "PytHon couRse\n",
      "python course\n",
      "PYTHON COURSE\n",
      "                PytHon couRse                 \n",
      "pYThON COUrSE\n",
      "['PytHon', 'couRse']\n",
      "Python course\n",
      "False\n",
      "False\n",
      "5\n",
      "False\n",
      "1\n"
     ]
    }
   ],
   "source": [
    "#day 2 Assignment 1\n",
    "#STRING\n",
    "\n",
    "s=\"PytHon couRse\"\n",
    "print(s)\n",
    "\n",
    "print(s.title())\n",
    "print(s.casefold())\n",
    "print(s.replace('h','y'))\n",
    "print(s.lower())\n",
    "print(s.upper())\n",
    "print(s.center(46))\n",
    "print(s.swapcase())\n",
    "print(s.split())\n",
    "print(s.capitalize())\n",
    "print(s.isalpha())\n",
    "print(s.isspace())\n",
    "print(s.find('n'))\n",
    "print(s.isdigit())\n",
    "print(s.count('t'))"
   ]
  },
  {
   "cell_type": "code",
   "execution_count": null,
   "metadata": {},
   "outputs": [],
   "source": []
  },
  {
   "cell_type": "markdown",
   "metadata": {},
   "source": [
    "# Assignment 2\n",
    "### "
   ]
  },
  {
   "cell_type": "code",
   "execution_count": 44,
   "metadata": {},
   "outputs": [],
   "source": [
    "lin=[6,9.3,90.2,\"hi\",69,\"hello\",90.2,\"bye\",8]"
   ]
  },
  {
   "cell_type": "code",
   "execution_count": 45,
   "metadata": {},
   "outputs": [
    {
     "data": {
      "text/plain": [
       "[6, 9.3, 90.2, 'hi', 69, 'hello', 90.2, 'bye', 8]"
      ]
     },
     "execution_count": 45,
     "metadata": {},
     "output_type": "execute_result"
    }
   ],
   "source": [
    "lin"
   ]
  },
  {
   "cell_type": "code",
   "execution_count": 69,
   "metadata": {},
   "outputs": [
    {
     "name": "stdout",
     "output_type": "stream",
     "text": [
      "<class 'list'>\n",
      "12\n",
      "2\n",
      "0\n",
      "None\n"
     ]
    },
    {
     "data": {
      "text/plain": [
       "[6, 9.3, 90.2, 'hello', 90.2, 'bye', 2, 682, 682, 682, 682, 682, 682]"
      ]
     },
     "execution_count": 69,
     "metadata": {},
     "output_type": "execute_result"
    }
   ],
   "source": [
    "print(type(lin))\n",
    "print(len(lin))\n",
    "print(lin[6])\n",
    "\n",
    "print(lin.count(69))\n",
    "lin\n",
    "print(lin.append(682))\n",
    "lin"
   ]
  },
  {
   "cell_type": "markdown",
   "metadata": {},
   "source": [
    "# Assignment 3\n",
    "### Dict"
   ]
  },
  {
   "cell_type": "code",
   "execution_count": 72,
   "metadata": {},
   "outputs": [],
   "source": [
    "dic={'name':'Akhilesh','standard':'B tech','pin':'19XXXXXX9','273':'jdif'}"
   ]
  },
  {
   "cell_type": "code",
   "execution_count": null,
   "metadata": {},
   "outputs": [],
   "source": []
  },
  {
   "cell_type": "code",
   "execution_count": 73,
   "metadata": {},
   "outputs": [
    {
     "name": "stdout",
     "output_type": "stream",
     "text": [
      "{'name': 'Akhilesh', 'standard': 'B tech', 'pin': '19XXXXXX9', '273': 'jdif'}\n"
     ]
    }
   ],
   "source": [
    "print(dic)"
   ]
  },
  {
   "cell_type": "code",
   "execution_count": 17,
   "metadata": {},
   "outputs": [],
   "source": [
    "#print(dic['name'])\n",
    "#print(dic['pin'])\n",
    "#print(len(dic))"
   ]
  },
  {
   "cell_type": "code",
   "execution_count": 85,
   "metadata": {},
   "outputs": [
    {
     "name": "stdout",
     "output_type": "stream",
     "text": [
      "('address', 'kadapa')\n",
      "{'name': 'Akhilesh', 'standard': 'B tech', 'pin': '19XXXXXX9', '273': 'jdif'}\n"
     ]
    }
   ],
   "source": [
    "dic['address']='kadapa'\n",
    "print(dic.popitem())\n",
    "\n",
    "\n",
    "print(dic)"
   ]
  },
  {
   "cell_type": "code",
   "execution_count": 13,
   "metadata": {},
   "outputs": [
    {
     "name": "stdout",
     "output_type": "stream",
     "text": [
      "harsha\n",
      "26\n",
      "harsha\n",
      "None\n",
      "{'name': 'harsha', 'age': 26}\n",
      "16\n",
      "{1: 1, 2: 4, 3: 9, 5: 25}\n"
     ]
    }
   ],
   "source": [
    "\n",
    "my_dict = {'name': 'harsha', 'age': 26}\n",
    "print(my_dict['name'])\n",
    "print(my_dict.get('age'))\n",
    "print(my_dict['name'])\n",
    "\n",
    "\n",
    "print(my_dict.get('address'))\n",
    "print(my_dict)\n",
    "\n",
    "squares = {1: 1, 2: 4, 3: 9, 4: 16, 5: 25}\n",
    "\n",
    "\n",
    "print(squares.pop(4))\n",
    "\n",
    "print(squares)\n"
   ]
  }
 ],
 "metadata": {
  "kernelspec": {
   "display_name": "Python 3",
   "language": "python",
   "name": "python3"
  },
  "language_info": {
   "codemirror_mode": {
    "name": "ipython",
    "version": 3
   },
   "file_extension": ".py",
   "mimetype": "text/x-python",
   "name": "python",
   "nbconvert_exporter": "python",
   "pygments_lexer": "ipython3",
   "version": "3.8.3"
  }
 },
 "nbformat": 4,
 "nbformat_minor": 4
}
