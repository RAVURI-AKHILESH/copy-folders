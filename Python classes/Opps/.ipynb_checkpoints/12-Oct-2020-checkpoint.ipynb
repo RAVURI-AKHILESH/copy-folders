{
 "cells": [
  {
   "cell_type": "markdown",
   "metadata": {},
   "source": [
    "# Title\n",
    "\n",
    "## Heading\n",
    "\n",
    "### Sub Headings\n",
    "\n",
    "#### 4Th Type Headings(executed current shell press shift+enter)\n",
    "\n",
    "\n",
    "- this is python workshop\n",
    "* this is python workshop\n",
    "\n",
    "1.this is python workshop\n",
    "\n",
    "#### italic and bold\n",
    "\n",
    "- this is *python* workshop python is italic keyword\n",
    "- this is **Python** workshop python word is bold\n",
    "\n",
    "####  highlite the text\n",
    "\n",
    "`this is python workshop`\n",
    "\n",
    "#### horizontal lines\n",
    "\n",
    "***\n",
    "this is venkatesh\n",
    "***\n",
    "\n",
    "***\n",
    "guntur Srinagar colony\n",
    "***\n",
    "\n",
    "#### how to change text to progaramming\n",
    "\n",
    "```python\n",
    "a=10\n",
    "b=20\n",
    "c=30\n",
    "d=a+b+c\n",
    "print(d)\n",
    "```"
   ]
  },
  {
   "cell_type": "markdown",
   "metadata": {},
   "source": [
    "#### Variables\n",
    "\n",
    "- variables is nothing memory allocation to a value\n",
    "    - 1.example is a=10\n",
    "    - 2.example is b='venkatesh'\n",
    "    - 3.example is c=12.34\n",
    "\n",
    "1.varibale do not start with digit\n",
    "2.keywords are not used as a varible\n",
    "3.do not use any special charecters in varaible"
   ]
  },
  {
   "cell_type": "code",
   "execution_count": 7,
   "metadata": {},
   "outputs": [
    {
     "name": "stdout",
     "output_type": "stream",
     "text": [
      "['False', 'None', 'True', 'and', 'as', 'assert', 'async', 'await', 'break', 'class', 'continue', 'def', 'del', 'elif', 'else', 'except', 'finally', 'for', 'from', 'global', 'if', 'import', 'in', 'is', 'lambda', 'nonlocal', 'not', 'or', 'pass', 'raise', 'return', 'try', 'while', 'with', 'yield']\n"
     ]
    }
   ],
   "source": [
    "import keyword as kw\n",
    "print(kw.kwlist)"
   ]
  },
  {
   "cell_type": "code",
   "execution_count": 9,
   "metadata": {},
   "outputs": [
    {
     "ename": "SyntaxError",
     "evalue": "invalid syntax (<ipython-input-9-348be0006856>, line 1)",
     "output_type": "error",
     "traceback": [
      "\u001b[1;36m  File \u001b[1;32m\"<ipython-input-9-348be0006856>\"\u001b[1;36m, line \u001b[1;32m1\u001b[0m\n\u001b[1;33m    del=10\u001b[0m\n\u001b[1;37m       ^\u001b[0m\n\u001b[1;31mSyntaxError\u001b[0m\u001b[1;31m:\u001b[0m invalid syntax\n"
     ]
    }
   ],
   "source": [
    "del=10\n",
    "print(del)"
   ]
  },
  {
   "cell_type": "code",
   "execution_count": 10,
   "metadata": {},
   "outputs": [
    {
     "ename": "SyntaxError",
     "evalue": "invalid syntax (<ipython-input-10-b8a64ce8459c>, line 2)",
     "output_type": "error",
     "traceback": [
      "\u001b[1;36m  File \u001b[1;32m\"<ipython-input-10-b8a64ce8459c>\"\u001b[1;36m, line \u001b[1;32m2\u001b[0m\n\u001b[1;33m    print(a@)\u001b[0m\n\u001b[1;37m            ^\u001b[0m\n\u001b[1;31mSyntaxError\u001b[0m\u001b[1;31m:\u001b[0m invalid syntax\n"
     ]
    }
   ],
   "source": [
    "a@=10\n",
    "print(a@)"
   ]
  },
  {
   "cell_type": "markdown",
   "metadata": {},
   "source": [
    "#### data types in python\n",
    "- python is strong and dynamically data type\n",
    "\n",
    "- integer\n",
    "- string\n",
    "- float"
   ]
  },
  {
   "cell_type": "code",
   "execution_count": 12,
   "metadata": {},
   "outputs": [
    {
     "name": "stdout",
     "output_type": "stream",
     "text": [
      "<class 'int'>\n",
      "<class 'str'>\n",
      "<class 'float'>\n"
     ]
    }
   ],
   "source": [
    "a=10\n",
    "b='venkatesh'\n",
    "c=12.39\n",
    "print(type(a))\n",
    "print(type(b))\n",
    "print(type(c))"
   ]
  },
  {
   "cell_type": "code",
   "execution_count": null,
   "metadata": {},
   "outputs": [],
   "source": []
  }
 ],
 "metadata": {
  "kernelspec": {
   "display_name": "Python 3",
   "language": "python",
   "name": "python3"
  },
  "language_info": {
   "codemirror_mode": {
    "name": "ipython",
    "version": 3
   },
   "file_extension": ".py",
   "mimetype": "text/x-python",
   "name": "python",
   "nbconvert_exporter": "python",
   "pygments_lexer": "ipython3",
   "version": "3.8.3"
  }
 },
 "nbformat": 4,
 "nbformat_minor": 4
}
