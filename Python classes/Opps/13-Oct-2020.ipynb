{
 "cells": [
  {
   "cell_type": "markdown",
   "metadata": {},
   "source": [
    "#### Operators in python\n",
    "- 1.Arithematic Operator\n",
    "- 2.Assignment operator\n",
    "- 3.Comparision Operator\n",
    "- 4.Logical Operator\n",
    "- 5.Bitwise Operator\n",
    "- 6.Identity Operator\n",
    "- 7.Membership Operator\n",
    "\n",
    "#### Conditional Statements\n",
    "- 1.If\n",
    "- 2.Elif\n",
    "- 3.Else\n",
    "- 4.Nested If Statments\n",
    "\n",
    "#### Iterators in python\n",
    "- 1.for loop\n",
    "- 2.while loop"
   ]
  },
  {
   "cell_type": "code",
   "execution_count": 4,
   "metadata": {},
   "outputs": [
    {
     "name": "stdout",
     "output_type": "stream",
     "text": [
      "33\n",
      "67\n"
     ]
    }
   ],
   "source": [
    "# Arithematic operators\n",
    "a=10\n",
    "b=23\n",
    "c=34\n",
    "print(a+b)\n",
    "print(a+b+c)"
   ]
  },
  {
   "cell_type": "code",
   "execution_count": 6,
   "metadata": {},
   "outputs": [
    {
     "name": "stdout",
     "output_type": "stream",
     "text": [
      "-24\n",
      "8\n"
     ]
    }
   ],
   "source": [
    "a=10\n",
    "b=34\n",
    "c=-32\n",
    "print(a-b)\n",
    "print(a-b-c)"
   ]
  },
  {
   "cell_type": "code",
   "execution_count": 7,
   "metadata": {},
   "outputs": [
    {
     "name": "stdout",
     "output_type": "stream",
     "text": [
      "30\n",
      "120\n"
     ]
    }
   ],
   "source": [
    "a=10\n",
    "b=3\n",
    "c=4\n",
    "print(a*b)\n",
    "print(a*b*c)"
   ]
  },
  {
   "cell_type": "code",
   "execution_count": 10,
   "metadata": {},
   "outputs": [
    {
     "name": "stdout",
     "output_type": "stream",
     "text": [
      "33\n",
      "-13\n",
      "600\n",
      "3.3333333333333335\n",
      "1000\n",
      "10\n",
      "3\n"
     ]
    }
   ],
   "source": [
    "a=10\n",
    "b=20\n",
    "c=3\n",
    "print(a+b+c)\n",
    "print(a-b-c)\n",
    "print(a*b*c)\n",
    "print(a/c)# division return float value\n",
    "print(a**c)\n",
    "print(a%b)\n",
    "print(a//c)# floor division return integer value"
   ]
  },
  {
   "cell_type": "code",
   "execution_count": 13,
   "metadata": {},
   "outputs": [
    {
     "data": {
      "text/plain": [
       "5"
      ]
     },
     "execution_count": 13,
     "metadata": {},
     "output_type": "execute_result"
    }
   ],
   "source": [
    "# assignment operator\n",
    "a=10\n",
    "a-=5\n",
    "a"
   ]
  },
  {
   "cell_type": "code",
   "execution_count": 15,
   "metadata": {},
   "outputs": [
    {
     "data": {
      "text/plain": [
       "2"
      ]
     },
     "execution_count": 15,
     "metadata": {},
     "output_type": "execute_result"
    }
   ],
   "source": [
    "b=10\n",
    "b//=5\n",
    "b"
   ]
  },
  {
   "cell_type": "code",
   "execution_count": 16,
   "metadata": {},
   "outputs": [
    {
     "data": {
      "text/plain": [
       "10000"
      ]
     },
     "execution_count": 16,
     "metadata": {},
     "output_type": "execute_result"
    }
   ],
   "source": [
    "c=10\n",
    "c**=4\n",
    "c"
   ]
  },
  {
   "cell_type": "code",
   "execution_count": 22,
   "metadata": {},
   "outputs": [
    {
     "name": "stdout",
     "output_type": "stream",
     "text": [
      "False\n",
      "True\n",
      "False\n",
      "True\n",
      "True\n",
      "False\n"
     ]
    }
   ],
   "source": [
    "# Comparison operator return true or false\n",
    "# <,>,==,!=,<=,>=\n",
    "a=10\n",
    "b=20\n",
    "print(a>b)\n",
    "print(a<b)\n",
    "print(a==b)\n",
    "print(a!=b)\n",
    "print(a<=b)\n",
    "print(a>=b)"
   ]
  },
  {
   "cell_type": "code",
   "execution_count": 30,
   "metadata": {},
   "outputs": [
    {
     "data": {
      "text/plain": [
       "-4"
      ]
     },
     "execution_count": 30,
     "metadata": {},
     "output_type": "execute_result"
    }
   ],
   "source": [
    "# logical operator\n",
    "# and,or,nor\n",
    "a=-2\n",
    "b=-4\n",
    "a and b"
   ]
  },
  {
   "cell_type": "code",
   "execution_count": 34,
   "metadata": {},
   "outputs": [
    {
     "data": {
      "text/plain": [
       "1"
      ]
     },
     "execution_count": 34,
     "metadata": {},
     "output_type": "execute_result"
    }
   ],
   "source": [
    "a=0\n",
    "b=True\n",
    "a or b"
   ]
  },
  {
   "cell_type": "code",
   "execution_count": 36,
   "metadata": {},
   "outputs": [
    {
     "data": {
      "text/plain": [
       "True"
      ]
     },
     "execution_count": 36,
     "metadata": {},
     "output_type": "execute_result"
    }
   ],
   "source": [
    "a=0\n",
    "not a"
   ]
  },
  {
   "cell_type": "code",
   "execution_count": 37,
   "metadata": {},
   "outputs": [
    {
     "data": {
      "text/plain": [
       "7"
      ]
     },
     "execution_count": 37,
     "metadata": {},
     "output_type": "execute_result"
    }
   ],
   "source": [
    "# bitwise operator\n",
    "# | & \n",
    "a=7 # 1 1 1\n",
    "b=5 # 1 0 1\n",
    "#res  1 1 1\n",
    "a|b"
   ]
  },
  {
   "cell_type": "code",
   "execution_count": 38,
   "metadata": {},
   "outputs": [
    {
     "data": {
      "text/plain": [
       "5"
      ]
     },
     "execution_count": 38,
     "metadata": {},
     "output_type": "execute_result"
    }
   ],
   "source": [
    "a=4 # 1 0 0\n",
    "b=5 # 1 0 1\n",
    "#res  1 0 1\n",
    "a|b"
   ]
  },
  {
   "cell_type": "markdown",
   "metadata": {},
   "source": [
    "8 4 2 1\n",
    "0 0 0 0 ->0\n",
    "0 0 0 1 ->1\n",
    "0 0 1 0 ->2\n",
    "0 0 1 1 ->3\n",
    "0 1 0 0 ->4\n",
    "0 1 0 1 ->5\n",
    "0 1 1 0 ->6\n",
    "0 1 1 1 ->7\n",
    "1 0 0 0 ->8\n",
    "1 0 0 1 ->9"
   ]
  },
  {
   "cell_type": "code",
   "execution_count": 41,
   "metadata": {},
   "outputs": [
    {
     "data": {
      "text/plain": [
       "8"
      ]
     },
     "execution_count": 41,
     "metadata": {},
     "output_type": "execute_result"
    }
   ],
   "source": [
    "a=8 # 1 0 0 0\n",
    "b=9 # 1 0 0 1\n",
    "#res  1 0 0 0\n",
    "a&b"
   ]
  },
  {
   "cell_type": "code",
   "execution_count": 45,
   "metadata": {},
   "outputs": [
    {
     "data": {
      "text/plain": [
       "1"
      ]
     },
     "execution_count": 45,
     "metadata": {},
     "output_type": "execute_result"
    }
   ],
   "source": [
    "# bitwise operators a>>b(shift a right by b bits)\n",
    "# >>,<<(a<<b)shift a left by b bits\n",
    "a=3 # 0 1 1 \n",
    "b=1 # 1 time shifted t0 right\n",
    "# res 0 0 1\n",
    "a>>b"
   ]
  },
  {
   "cell_type": "code",
   "execution_count": 55,
   "metadata": {},
   "outputs": [
    {
     "data": {
      "text/plain": [
       "6"
      ]
     },
     "execution_count": 55,
     "metadata": {},
     "output_type": "execute_result"
    }
   ],
   "source": [
    "a=3 # 0 1 1\n",
    "b=1 # \n",
    "#res  1 1 0\n",
    "a<<b"
   ]
  },
  {
   "cell_type": "code",
   "execution_count": 47,
   "metadata": {},
   "outputs": [
    {
     "data": {
      "text/plain": [
       "False"
      ]
     },
     "execution_count": 47,
     "metadata": {},
     "output_type": "execute_result"
    }
   ],
   "source": [
    "# identity operator\n",
    "# is,is not\n",
    "a=10\n",
    "a is 9"
   ]
  },
  {
   "cell_type": "code",
   "execution_count": 49,
   "metadata": {},
   "outputs": [
    {
     "data": {
      "text/plain": [
       "True"
      ]
     },
     "execution_count": 49,
     "metadata": {},
     "output_type": "execute_result"
    }
   ],
   "source": [
    "a=10\n",
    "a is not 8"
   ]
  },
  {
   "cell_type": "code",
   "execution_count": 57,
   "metadata": {},
   "outputs": [
    {
     "name": "stdout",
     "output_type": "stream",
     "text": [
      "your value is there\n"
     ]
    }
   ],
   "source": [
    "# membership test operator\n",
    "# in , not in\n",
    "a=['abc','abcd','abcdef']\n",
    "if 'abc' not in a:\n",
    "    print('your value is not there')\n",
    "else:\n",
    "    print('your value is there')"
   ]
  },
  {
   "cell_type": "code",
   "execution_count": 62,
   "metadata": {},
   "outputs": [
    {
     "name": "stdout",
     "output_type": "stream",
     "text": [
      "10 is even number\n"
     ]
    }
   ],
   "source": [
    "# conditional statements-it checks a certain condition.or group of conditions\n",
    "#if,elif,else and nested if statements\n",
    "\n",
    "#1. findout given number is even or not\n",
    "a=10 # a contain value is static\n",
    "if (a%2==0):\n",
    "    print(a,'is even number')\n",
    "else:\n",
    "    print(a,'is not even')"
   ]
  },
  {
   "cell_type": "code",
   "execution_count": 69,
   "metadata": {},
   "outputs": [
    {
     "name": "stdout",
     "output_type": "stream",
     "text": [
      "enter a value:13\n",
      "13 is odd number\n"
     ]
    }
   ],
   "source": [
    "# taking value from user or dynamically and find no is even r odd\n",
    "a=int(input('enter a value:'))#input default takes string\n",
    "if (a%2==0):\n",
    "    print(a,'is even number')\n",
    "else:\n",
    "    print(a,'is odd number')"
   ]
  },
  {
   "cell_type": "code",
   "execution_count": 71,
   "metadata": {},
   "outputs": [
    {
     "data": {
      "text/plain": [
       "False"
      ]
     },
     "execution_count": 71,
     "metadata": {},
     "output_type": "execute_result"
    }
   ],
   "source": [
    "1==0"
   ]
  },
  {
   "cell_type": "code",
   "execution_count": 70,
   "metadata": {},
   "outputs": [
    {
     "data": {
      "text/plain": [
       "1"
      ]
     },
     "execution_count": 70,
     "metadata": {},
     "output_type": "execute_result"
    }
   ],
   "source": [
    "13%2"
   ]
  },
  {
   "cell_type": "code",
   "execution_count": null,
   "metadata": {},
   "outputs": [],
   "source": []
  }
 ],
 "metadata": {
  "kernelspec": {
   "display_name": "Python 3",
   "language": "python",
   "name": "python3"
  },
  "language_info": {
   "codemirror_mode": {
    "name": "ipython",
    "version": 3
   },
   "file_extension": ".py",
   "mimetype": "text/x-python",
   "name": "python",
   "nbconvert_exporter": "python",
   "pygments_lexer": "ipython3",
   "version": "3.7.6"
  }
 },
 "nbformat": 4,
 "nbformat_minor": 4
}
