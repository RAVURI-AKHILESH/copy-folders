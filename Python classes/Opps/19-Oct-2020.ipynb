{
 "cells": [
  {
   "cell_type": "markdown",
   "metadata": {},
   "source": [
    "#### Today Content\n",
    "- File Handling\n",
    "- Regular expressions\n"
   ]
  },
  {
   "cell_type": "code",
   "execution_count": 1,
   "metadata": {},
   "outputs": [],
   "source": [
    "# file handling\n",
    "# collection of data and stroring in memory is called files\n",
    "# text files and binary files\n",
    "# .txt,csv,excell,.py,.java,.c,.php....pdf,mp3,mp4\n",
    "# Ram-random access memory\n",
    "# Rom- Read only memory"
   ]
  },
  {
   "cell_type": "markdown",
   "metadata": {},
   "source": [
    "- open file\n",
    "- create file\n",
    "- write data to file\n",
    "- read data from file\n",
    "- append data to existed file\n",
    "- close file\n",
    "```python\n",
    "open(filename,mode)\n",
    "statements123\n",
    "```\n",
    "- modes\n",
    "    - write mode(w)\n",
    "        - these mode using creation of new file or write data to exsited file\n",
    "    - read mode(r)\n",
    "        - these mode using read data from existed file\n",
    "    - append mode(a)\n",
    "        - these mode using add data to existed file"
   ]
  },
  {
   "cell_type": "code",
   "execution_count": 2,
   "metadata": {},
   "outputs": [
    {
     "name": "stdout",
     "output_type": "stream",
     "text": [
      "Name:Y Venkatesh\n",
      "Email:venkatesh.y@apssdc.in\n",
      "Salary:36000\n",
      "Address:Guntur\n"
     ]
    }
   ],
   "source": [
    "# read data from file\n",
    "f1=open('sample1.txt','r')\n",
    "output=f1.read()#print(f1.read())\n",
    "print(output)\n",
    "f1.close()"
   ]
  },
  {
   "cell_type": "code",
   "execution_count": 6,
   "metadata": {},
   "outputs": [
    {
     "name": "stdout",
     "output_type": "stream",
     "text": [
      "- open file\n",
      "- create file\n",
      "- write data to file\n",
      "- read data from file\n",
      "- append data to existed file\n",
      "- close file\n",
      "```python\n",
      "open(filename,mode)\n",
      "statements123\n",
      "```\n",
      "- modes\n",
      "    - write mode(w)\n",
      "        - these mode using creation of new file or write data to exsited file\n",
      "    - read mode(r)\n",
      "        - these mode using read data from existed file\n",
      "    - append mode(a)\n",
      "        - these mode using add data to existed file\n"
     ]
    }
   ],
   "source": [
    "# Read data from d drive location in that folder python in that python_content.txt\n",
    "f2=open('D://python//python_content.txt','r')\n",
    "print(f2.read())\n",
    "f2.close()"
   ]
  },
  {
   "cell_type": "code",
   "execution_count": 7,
   "metadata": {},
   "outputs": [],
   "source": [
    "# create file or write file \n",
    "a=open('sample2.txt','w')\n",
    "a.close()"
   ]
  },
  {
   "cell_type": "code",
   "execution_count": 9,
   "metadata": {},
   "outputs": [],
   "source": [
    "b=open('sample1.txt','w')\n",
    "b1='Name:Venkatesh'\n",
    "b2='Email:venky@gmail.com'\n",
    "b3='Salary:36000'\n",
    "b4='Address:Guntur'\n",
    "b5=\"Age:27\"\n",
    "b.write(b1+'\\n'+b2+'\\n'+b3+'\\n'+b4+'\\n'+b5)\n",
    "b.close()"
   ]
  },
  {
   "cell_type": "code",
   "execution_count": 11,
   "metadata": {},
   "outputs": [
    {
     "name": "stdout",
     "output_type": "stream",
     "text": [
      "Name:Venkatesh\n",
      "Email:venky@gmail.com\n",
      "Salary:36000\n",
      "Address:Guntur\n",
      "Age:27\n"
     ]
    }
   ],
   "source": [
    "c=open('sample1.txt','r')\n",
    "print(c.read())\n",
    "c.close()"
   ]
  },
  {
   "cell_type": "code",
   "execution_count": 12,
   "metadata": {},
   "outputs": [],
   "source": [
    "# append mode \n",
    "# append new line to sample1.txt with contact:9494699851\n",
    "d=open('sample1.txt','a')\n",
    "d1='Contact:9494699851'\n",
    "d.write('\\n'+d1)\n",
    "d.close()\n"
   ]
  },
  {
   "cell_type": "code",
   "execution_count": 13,
   "metadata": {},
   "outputs": [
    {
     "name": "stdout",
     "output_type": "stream",
     "text": [
      "Name:Venkatesh\n",
      "Email:venky@gmail.com\n",
      "Salary:36000\n",
      "Address:Guntur\n",
      "Age:27\n",
      "Contact:9494699851\n"
     ]
    }
   ],
   "source": [
    "e=open('sample1.txt','r')\n",
    "print(e.read())\n",
    "e.close()"
   ]
  },
  {
   "cell_type": "markdown",
   "metadata": {},
   "source": [
    "#### Regular Expressions\n",
    "- regular expression is a sequence of charecters that forms a search pattern\n",
    "- re can be used to check if string contains the specified search pattern\n",
    "- `import re`\n",
    "- regex functions\n",
    "    - `findall`\n",
    "        - returns a list containg all matches\n",
    "    - `search`\n",
    "        - return a match object if there is a match anywhere in the string\n",
    "    - `match`\n",
    "        - object containg information abou the search and result"
   ]
  },
  {
   "cell_type": "code",
   "execution_count": 25,
   "metadata": {},
   "outputs": [
    {
     "name": "stdout",
     "output_type": "stream",
     "text": [
      "['co', 'co']\n"
     ]
    }
   ],
   "source": [
    "import re\n",
    "a='welcome to apssdc course'\n",
    "b=re.findall('co',a)\n",
    "print(b)\n"
   ]
  },
  {
   "cell_type": "code",
   "execution_count": 20,
   "metadata": {},
   "outputs": [
    {
     "name": "stdout",
     "output_type": "stream",
     "text": [
      "<re.Match object; span=(3, 5), match='co'>\n"
     ]
    }
   ],
   "source": [
    "a1='welcome to my workshop course'\n",
    "b=re.search('co',a1)\n",
    "print(b)"
   ]
  },
  {
   "cell_type": "code",
   "execution_count": 27,
   "metadata": {},
   "outputs": [
    {
     "name": "stdout",
     "output_type": "stream",
     "text": [
      "<re.Match object; span=(0, 4), match='welc'>\n"
     ]
    }
   ],
   "source": [
    "c=re.match('welc',a1)\n",
    "print(c)"
   ]
  },
  {
   "cell_type": "markdown",
   "metadata": {},
   "source": [
    "- [] a set of charecters\n",
    "- .\n",
    "    - any charecter (except new line charecter)\n",
    "    - 'he..o'\n",
    "- \\\n",
    "    - special sequnce\n",
    "    - \\d,\\s\n",
    "- ^\n",
    "    - start with\n",
    "    - ^a\n",
    "- $\n",
    "    - ends with\n",
    "    - o$\n",
    "- *\n",
    "    - zero or more occurances\n",
    "    \n",
    "- +\n",
    "    - one or more occurances\n",
    "- {}\n",
    "    - exactly the specified numbers occurances\n",
    "    \n",
    "- |\n",
    "    - either or\n",
    "- ()\n",
    "    - group "
   ]
  },
  {
   "cell_type": "code",
   "execution_count": null,
   "metadata": {},
   "outputs": [],
   "source": [
    "a=['venkatesh','hello','workshop']"
   ]
  }
 ],
 "metadata": {
  "kernelspec": {
   "display_name": "Python 3",
   "language": "python",
   "name": "python3"
  },
  "language_info": {
   "codemirror_mode": {
    "name": "ipython",
    "version": 3
   },
   "file_extension": ".py",
   "mimetype": "text/x-python",
   "name": "python",
   "nbconvert_exporter": "python",
   "pygments_lexer": "ipython3",
   "version": "3.7.6"
  }
 },
 "nbformat": 4,
 "nbformat_minor": 4
}
