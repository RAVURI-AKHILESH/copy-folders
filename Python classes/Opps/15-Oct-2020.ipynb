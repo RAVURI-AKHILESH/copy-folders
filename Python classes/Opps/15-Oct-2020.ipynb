{
 "cells": [
  {
   "cell_type": "markdown",
   "metadata": {},
   "source": [
    "#### Functions In Python\n",
    "- 1.Pre defined functions\n",
    "    - these functions are defined by python in built\n",
    "        - int(),float(),str(),input(),range(),len()\n",
    "        - abs(),bin(),chr(),dict(),set(),list(),tuple()\n",
    "        - dir(),eval(),min(),max(),open(),sum(),pow(),print(),ord()\n",
    "- 2.user defined function\n",
    "    - these functions are created by user\n",
    "        - with return without arguments\n",
    "        - without return with arguments\n",
    "        - with return with argumenets\n",
    "        - without return without arguments"
   ]
  },
  {
   "cell_type": "code",
   "execution_count": 1,
   "metadata": {},
   "outputs": [
    {
     "name": "stdout",
     "output_type": "stream",
     "text": [
      "10\n",
      "13\n"
     ]
    }
   ],
   "source": [
    "# predefined functions\n",
    "a=10\n",
    "b=-13\n",
    "print(abs(a))\n",
    "print(abs(b))\n"
   ]
  },
  {
   "cell_type": "code",
   "execution_count": 7,
   "metadata": {},
   "outputs": [
    {
     "name": "stdout",
     "output_type": "stream",
     "text": [
      "0b1100 0b1000\n"
     ]
    }
   ],
   "source": [
    "#bin()\n",
    "a=12\n",
    "b=8\n",
    "print(bin(a),bin(b))\n"
   ]
  },
  {
   "cell_type": "code",
   "execution_count": 15,
   "metadata": {},
   "outputs": [
    {
     "name": "stdout",
     "output_type": "stream",
     "text": [
      "A\n",
      "a\n",
      "\u0001\n",
      "\u0002\n",
      "\u0003\n",
      "\u0004\n",
      "\u0005\n",
      "\u0006\n",
      "\u0007\n",
      "\b\n",
      "\t\n",
      "\n",
      "\n",
      "Ӓ\n"
     ]
    }
   ],
   "source": [
    "#chr()-charcter that represents the specific unicode\n",
    "print(chr(65))\n",
    "print(chr(97))\n",
    "print(chr(1))\n",
    "print(chr(2))\n",
    "print(chr(3))\n",
    "print(chr(4))\n",
    "print(chr(5))\n",
    "print(chr(6))\n",
    "print(chr(7))\n",
    "print(chr(8))\n",
    "print(chr(9))\n",
    "print(chr(10))\n",
    "print(chr(1234))"
   ]
  },
  {
   "cell_type": "code",
   "execution_count": 23,
   "metadata": {},
   "outputs": [
    {
     "name": "stdout",
     "output_type": "stream",
     "text": [
      "97\n",
      "64\n",
      "32\n"
     ]
    }
   ],
   "source": [
    "# ord() convert the charecter to ASCII Numbers\n",
    "print(ord('a'))\n",
    "print(ord('@'))\n",
    "print(ord(' '))"
   ]
  },
  {
   "cell_type": "code",
   "execution_count": 21,
   "metadata": {},
   "outputs": [
    {
     "name": "stdout",
     "output_type": "stream",
     "text": [
      " \n",
      "@\n"
     ]
    }
   ],
   "source": [
    "print(chr(32))\n",
    "print(chr(64))"
   ]
  },
  {
   "cell_type": "code",
   "execution_count": 24,
   "metadata": {},
   "outputs": [
    {
     "data": {
      "text/plain": [
       "64"
      ]
     },
     "execution_count": 24,
     "metadata": {},
     "output_type": "execute_result"
    }
   ],
   "source": [
    "#pow()\n",
    "a=4\n",
    "b=3\n",
    "pow(a,b)"
   ]
  },
  {
   "cell_type": "code",
   "execution_count": 25,
   "metadata": {},
   "outputs": [
    {
     "data": {
      "text/plain": [
       "8"
      ]
     },
     "execution_count": 25,
     "metadata": {},
     "output_type": "execute_result"
    }
   ],
   "source": [
    "pow(2,3)"
   ]
  },
  {
   "cell_type": "code",
   "execution_count": 28,
   "metadata": {},
   "outputs": [
    {
     "name": "stdout",
     "output_type": "stream",
     "text": [
      "55\n",
      "1\n",
      "10\n"
     ]
    }
   ],
   "source": [
    "a=[1,2,3,4,5,6,7,8,9,10]\n",
    "print(sum(a))\n",
    "print(min(a))\n",
    "print(max(a))"
   ]
  },
  {
   "cell_type": "code",
   "execution_count": 32,
   "metadata": {},
   "outputs": [
    {
     "name": "stdout",
     "output_type": "stream",
     "text": [
      "h\n",
      "A\n",
      "6\n"
     ]
    }
   ],
   "source": [
    "a=['d','c','a','f','h','A']\n",
    "print(max(a))\n",
    "print(min(a))\n",
    "print(len(a))"
   ]
  },
  {
   "cell_type": "code",
   "execution_count": 36,
   "metadata": {},
   "outputs": [
    {
     "name": "stdout",
     "output_type": "stream",
     "text": [
      "[1, 2, 3, 4, 5, 6, 7, 8, 9]\n",
      "['v', 'e', 'n', 'k', 'a', 't', 'e', 's', 'h']\n",
      "[1, 2, 3, 4, 5, 6]\n",
      "[1, 2, 3, 4]\n"
     ]
    }
   ],
   "source": [
    "#list,tuple,dict,sets\n",
    "a=list(range(1,10))\n",
    "b=list('venkatesh')\n",
    "c=list((1,2,3,4,5,6))\n",
    "d=list({1,2,3,4,3,2,1})\n",
    "print(a)\n",
    "print(b)\n",
    "print(c)\n",
    "print(d)"
   ]
  },
  {
   "cell_type": "code",
   "execution_count": 38,
   "metadata": {},
   "outputs": [
    {
     "name": "stdout",
     "output_type": "stream",
     "text": [
      "(1, 2, 3, 4, 5, 6, 7, 8, 9, 10)\n",
      "('v', 'e', 'n', 'k', 'a', 't', 'e', 's', 'h')\n"
     ]
    }
   ],
   "source": [
    "a=tuple(range(1,11))\n",
    "b=tuple(\"venkatesh\")\n",
    "print(a)\n",
    "print(b)"
   ]
  },
  {
   "cell_type": "code",
   "execution_count": 42,
   "metadata": {},
   "outputs": [
    {
     "name": "stdout",
     "output_type": "stream",
     "text": [
      "['__add__', '__class__', '__contains__', '__delattr__', '__dir__', '__doc__', '__eq__', '__format__', '__ge__', '__getattribute__', '__getitem__', '__getnewargs__', '__gt__', '__hash__', '__init__', '__init_subclass__', '__iter__', '__le__', '__len__', '__lt__', '__mod__', '__mul__', '__ne__', '__new__', '__reduce__', '__reduce_ex__', '__repr__', '__rmod__', '__rmul__', '__setattr__', '__sizeof__', '__str__', '__subclasshook__', 'capitalize', 'casefold', 'center', 'count', 'encode', 'endswith', 'expandtabs', 'find', 'format', 'format_map', 'index', 'isalnum', 'isalpha', 'isascii', 'isdecimal', 'isdigit', 'isidentifier', 'islower', 'isnumeric', 'isprintable', 'isspace', 'istitle', 'isupper', 'join', 'ljust', 'lower', 'lstrip', 'maketrans', 'partition', 'replace', 'rfind', 'rindex', 'rjust', 'rpartition', 'rsplit', 'rstrip', 'split', 'splitlines', 'startswith', 'strip', 'swapcase', 'title', 'translate', 'upper', 'zfill']\n",
      "['__add__', '__class__', '__contains__', '__delattr__', '__delitem__', '__dir__', '__doc__', '__eq__', '__format__', '__ge__', '__getattribute__', '__getitem__', '__gt__', '__hash__', '__iadd__', '__imul__', '__init__', '__init_subclass__', '__iter__', '__le__', '__len__', '__lt__', '__mul__', '__ne__', '__new__', '__reduce__', '__reduce_ex__', '__repr__', '__reversed__', '__rmul__', '__setattr__', '__setitem__', '__sizeof__', '__str__', '__subclasshook__', 'append', 'clear', 'copy', 'count', 'extend', 'index', 'insert', 'pop', 'remove', 'reverse', 'sort']\n",
      "['__add__', '__class__', '__contains__', '__delattr__', '__dir__', '__doc__', '__eq__', '__format__', '__ge__', '__getattribute__', '__getitem__', '__getnewargs__', '__gt__', '__hash__', '__init__', '__init_subclass__', '__iter__', '__le__', '__len__', '__lt__', '__mul__', '__ne__', '__new__', '__reduce__', '__reduce_ex__', '__repr__', '__rmul__', '__setattr__', '__sizeof__', '__str__', '__subclasshook__', 'count', 'index']\n",
      "['__and__', '__class__', '__contains__', '__delattr__', '__dir__', '__doc__', '__eq__', '__format__', '__ge__', '__getattribute__', '__gt__', '__hash__', '__iand__', '__init__', '__init_subclass__', '__ior__', '__isub__', '__iter__', '__ixor__', '__le__', '__len__', '__lt__', '__ne__', '__new__', '__or__', '__rand__', '__reduce__', '__reduce_ex__', '__repr__', '__ror__', '__rsub__', '__rxor__', '__setattr__', '__sizeof__', '__str__', '__sub__', '__subclasshook__', '__xor__', 'add', 'clear', 'copy', 'difference', 'difference_update', 'discard', 'intersection', 'intersection_update', 'isdisjoint', 'issubset', 'issuperset', 'pop', 'remove', 'symmetric_difference', 'symmetric_difference_update', 'union', 'update']\n",
      "['__class__', '__contains__', '__delattr__', '__delitem__', '__dir__', '__doc__', '__eq__', '__format__', '__ge__', '__getattribute__', '__getitem__', '__gt__', '__hash__', '__init__', '__init_subclass__', '__iter__', '__le__', '__len__', '__lt__', '__ne__', '__new__', '__reduce__', '__reduce_ex__', '__repr__', '__setattr__', '__setitem__', '__sizeof__', '__str__', '__subclasshook__', 'clear', 'copy', 'fromkeys', 'get', 'items', 'keys', 'pop', 'popitem', 'setdefault', 'update', 'values']\n"
     ]
    }
   ],
   "source": [
    "print(dir(str))\n",
    "print(dir(list))\n",
    "print(dir(tuple))\n",
    "print(dir(set))\n",
    "print(dir(dict))"
   ]
  },
  {
   "cell_type": "code",
   "execution_count": null,
   "metadata": {},
   "outputs": [],
   "source": [
    "# User defined functions\n",
    "# without return without argument\n",
    "'''\n",
    "def function_name(optional arguments):\n",
    "    Staments1\n",
    "'''"
   ]
  },
  {
   "cell_type": "code",
   "execution_count": 43,
   "metadata": {},
   "outputs": [],
   "source": [
    "# sum of 2 numbers using function\n",
    "# without return without argument\n",
    "'''\n",
    "functions is a group of related statements that perorm specific task\n",
    "1.reusability purpose\n",
    "2.less code\n",
    "'''\n",
    "def add_num():\n",
    "    a=10\n",
    "    b=23\n",
    "    print('sum of a,b is',a+b)"
   ]
  },
  {
   "cell_type": "code",
   "execution_count": 44,
   "metadata": {},
   "outputs": [
    {
     "name": "stdout",
     "output_type": "stream",
     "text": [
      "sum of a,b is 33\n"
     ]
    }
   ],
   "source": [
    "add_num()"
   ]
  },
  {
   "cell_type": "code",
   "execution_count": 47,
   "metadata": {},
   "outputs": [],
   "source": [
    "def sub_num():\n",
    "    a=15\n",
    "    b=10\n",
    "    print('substraction of a,b is',a-b)"
   ]
  },
  {
   "cell_type": "code",
   "execution_count": 50,
   "metadata": {},
   "outputs": [
    {
     "name": "stdout",
     "output_type": "stream",
     "text": [
      "substraction of a,b is 5\n",
      "sum of a,b is 33\n"
     ]
    }
   ],
   "source": [
    "sub_num()\n",
    "add_num()"
   ]
  },
  {
   "cell_type": "code",
   "execution_count": 52,
   "metadata": {},
   "outputs": [
    {
     "name": "stdout",
     "output_type": "stream",
     "text": [
      "23\n",
      "3\n"
     ]
    }
   ],
   "source": [
    "# sum of 2 numbers using function\n",
    "# sub of 2 num using function\n",
    "# with return without arguments\n",
    "def sum_n():\n",
    "    a=10\n",
    "    b=13\n",
    "    return a+b\n",
    "def sub_n():\n",
    "    a=15\n",
    "    b=12\n",
    "    return a-b\n",
    "print(sum_n())\n",
    "print(sub_n())"
   ]
  },
  {
   "cell_type": "code",
   "execution_count": 54,
   "metadata": {},
   "outputs": [
    {
     "name": "stdout",
     "output_type": "stream",
     "text": [
      "multiplication of a,b,c and d is 120\n"
     ]
    }
   ],
   "source": [
    "# without return with arguments\n",
    "def mul_n(a,b,c,d):\n",
    "    print('multiplication of a,b,c and d is',a*b*c*d)\n",
    "mul_n(2,3,4,5)"
   ]
  },
  {
   "cell_type": "code",
   "execution_count": 55,
   "metadata": {},
   "outputs": [
    {
     "name": "stdout",
     "output_type": "stream",
     "text": [
      "multiplication of a,b,c and d is 1680\n"
     ]
    }
   ],
   "source": [
    "mul_n(5,6,7,8)"
   ]
  },
  {
   "cell_type": "code",
   "execution_count": 56,
   "metadata": {},
   "outputs": [
    {
     "name": "stdout",
     "output_type": "stream",
     "text": [
      "multiplication of a,b,c and d is 24024\n"
     ]
    }
   ],
   "source": [
    "mul_n(11,12,13,14)"
   ]
  },
  {
   "cell_type": "code",
   "execution_count": 57,
   "metadata": {},
   "outputs": [
    {
     "name": "stdout",
     "output_type": "stream",
     "text": [
      "my name is  venkatesh\n",
      "my salary is  36000\n",
      "my age is  27\n",
      "my address is  Guntur\n"
     ]
    }
   ],
   "source": [
    "def profile(name,sal,age,address):\n",
    "    print('my name is ',name)\n",
    "    print('my salary is ',sal)\n",
    "    print('my age is ',age)\n",
    "    print('my address is ',address)\n",
    "profile(sal=36000,age=27,name='venkatesh',address='Guntur')"
   ]
  },
  {
   "cell_type": "code",
   "execution_count": 64,
   "metadata": {},
   "outputs": [
    {
     "data": {
      "text/plain": [
       "'my name is venkatesh im from guntur     my age is 27 my salary is 36000'"
      ]
     },
     "execution_count": 64,
     "metadata": {},
     "output_type": "execute_result"
    }
   ],
   "source": [
    "# with return with arguments\n",
    "def profile(name,sal,age,add):\n",
    "    output='my name is {} im from {} \\\n",
    "    my age is {} my salary is {}'.format(name,add,age,sal)\n",
    "    return output\n",
    "profile('venkatesh',36000,27,'guntur')"
   ]
  },
  {
   "cell_type": "code",
   "execution_count": 73,
   "metadata": {},
   "outputs": [
    {
     "data": {
      "text/plain": [
       "'my name is venkateshmy address is gunturmy salary is 36000my age is 27'"
      ]
     },
     "execution_count": 73,
     "metadata": {},
     "output_type": "execute_result"
    }
   ],
   "source": [
    "# with return with arguments\n",
    "def profile(name,sal,age,add):\n",
    "    a='my name is '+name\n",
    "    b='my address is '+add\n",
    "    c='my salary is '+sal\n",
    "    d='my age is '+age\n",
    "    \n",
    "    return a+b+c+d\n",
    "profile('venkatesh','36000','27','guntur')"
   ]
  },
  {
   "cell_type": "markdown",
   "metadata": {},
   "source": [
    "#### Data Structures in python\n",
    "- collection of data in different ways\n",
    "- Strings\n",
    "    - collection of charecters enclosed by single quotes or double quotes\n",
    "    - a='venkatesh'\n",
    "    - b=\"apssdc\"\n",
    "- Lists\n",
    "    - collection elements enclosed by squre brackets\n",
    "    - a=[1,2,3,4,5,6]\n",
    "    - b=['venkatesh','apssdc','guntur']\n",
    "- Tuple\n",
    "    - collction of elements enclosed by paranthesis\n",
    "    - a=(1,2,3,4,5,6)\n",
    "    - b=('a','b','c')\n",
    "- Dictionaries\n",
    "    - collection of order and indexed items enclosed by curly braces\n",
    "    - a={'name':'venkatesh','sal':36000,'age':27}\n",
    "- Sets\n",
    "    - collection of unique items enclosed by curly braces\\\n",
    "    - a={1,2,3,4,5}\n",
    "    - b={'a','b','c'}"
   ]
  },
  {
   "cell_type": "code",
   "execution_count": 74,
   "metadata": {},
   "outputs": [
    {
     "data": {
      "text/plain": [
       "8"
      ]
     },
     "execution_count": 74,
     "metadata": {},
     "output_type": "execute_result"
    }
   ],
   "source": [
    "a='1000'\n",
    "int(a,2)"
   ]
  },
  {
   "cell_type": "code",
   "execution_count": null,
   "metadata": {},
   "outputs": [],
   "source": []
  }
 ],
 "metadata": {
  "kernelspec": {
   "display_name": "Python 3",
   "language": "python",
   "name": "python3"
  },
  "language_info": {
   "codemirror_mode": {
    "name": "ipython",
    "version": 3
   },
   "file_extension": ".py",
   "mimetype": "text/x-python",
   "name": "python",
   "nbconvert_exporter": "python",
   "pygments_lexer": "ipython3",
   "version": "3.7.6"
  }
 },
 "nbformat": 4,
 "nbformat_minor": 4
}
