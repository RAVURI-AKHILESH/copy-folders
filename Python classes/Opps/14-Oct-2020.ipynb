{
 "cells": [
  {
   "cell_type": "markdown",
   "metadata": {},
   "source": [
    "### Good Morning to All"
   ]
  },
  {
   "cell_type": "code",
   "execution_count": 1,
   "metadata": {},
   "outputs": [
    {
     "name": "stdout",
     "output_type": "stream",
     "text": [
      "enter a number:15\n",
      "15 is odd number\n"
     ]
    }
   ],
   "source": [
    "# Given Number is even or odd\n",
    "a=int(input('enter a number:'))\n",
    "if (a%2==0):\n",
    "    print(a,'is even number')\n",
    "else:\n",
    "    print(a,'is odd number')"
   ]
  },
  {
   "cell_type": "code",
   "execution_count": 6,
   "metadata": {},
   "outputs": [
    {
     "name": "stdout",
     "output_type": "stream",
     "text": [
      "enter student mark:45.0\n",
      "45.0 grading is E\n"
     ]
    }
   ],
   "source": [
    "# grading system\n",
    "# a=100 or a=90 or a=60\n",
    "# marks in between 100 to 90 grading is a+\n",
    "# marks in between 90 to 80 grading is a\n",
    "# marks in b/w 80 to 70 grding is b\n",
    "# marks in b/w 70 to 60 grading is c\n",
    "# marks in b/w 60 to 50 grading is d\n",
    "# marks in b/w 50 to 40 grading is e\n",
    "# those who are getting below 40 that result is fail\n",
    "mark=float(input('enter student mark:'))\n",
    "if (mark<=100 and mark>=90):\n",
    "    print(mark,'grading is A+')\n",
    "elif(mark<90 and mark>=80):\n",
    "    print(mark,'grading is A')\n",
    "elif(mark<80 and mark>=70):\n",
    "    print(mark,'grading is B')\n",
    "elif(mark<70 and mark>=60):\n",
    "    print(mark,'grading is C')\n",
    "elif(mark<60 and mark>=50):\n",
    "    print(mark,'grading is D')\n",
    "elif(mark<50 and mark>=40):\n",
    "    print(mark,'grading is E')\n",
    "else:\n",
    "    print(mark,'grading is Fail')\n",
    "    \n"
   ]
  },
  {
   "cell_type": "code",
   "execution_count": 11,
   "metadata": {},
   "outputs": [
    {
     "name": "stdout",
     "output_type": "stream",
     "text": [
      "enter a pin number:1234\n",
      "enter amount:9000\n",
      "9000 successfully with draw\n"
     ]
    }
   ],
   "source": [
    "# Atm Transaction Problem\n",
    "money=10000\n",
    "pin=input('enter a pin number:')\n",
    "if (len(pin)==4):\n",
    "    if (pin=='1234'):\n",
    "        amount=int(input('enter amount:'))\n",
    "        if (amount<=money):\n",
    "            print(amount,'successfully with draw')\n",
    "        else:\n",
    "            print(amount,'insufficiant funds in your account')\n",
    "elif (len(pin)==6):\n",
    "    if (pin=='123456'):\n",
    "        amount=int(input('enter amount:'))\n",
    "        if (amount<=money):\n",
    "            print(amount,'successfully with draw')\n",
    "        else:\n",
    "            print(amount,'insufficiant funds in your account')\n",
    "else:\n",
    "    print(pin,'invalid pin')"
   ]
  },
  {
   "cell_type": "markdown",
   "metadata": {},
   "source": [
    "#### Iterators in Python\n",
    "- continous process\n",
    "    - for loop\n",
    "        - ```python\n",
    "        for iterator_variable in iterator_sequence:\n",
    "            statements1\n",
    "            statements2..\n",
    "            ```\n",
    "    - while loop\n"
   ]
  },
  {
   "cell_type": "code",
   "execution_count": 17,
   "metadata": {},
   "outputs": [
    {
     "name": "stdout",
     "output_type": "stream",
     "text": [
      "1,3,5,7,9,"
     ]
    }
   ],
   "source": [
    "# how to print 1 to 10 natural number\n",
    "for i in range(1,11):#range(start,end-1,steps) steps is optional\n",
    "    if (i%2!=0):\n",
    "        print(i,end=',')\n",
    " "
   ]
  },
  {
   "cell_type": "code",
   "execution_count": 26,
   "metadata": {},
   "outputs": [
    {
     "name": "stdout",
     "output_type": "stream",
     "text": [
      "1 2 3 4 5 6 7 8 9 10 "
     ]
    }
   ],
   "source": [
    "for i in range(1,11):\n",
    "    print(i,end=' ')"
   ]
  },
  {
   "cell_type": "code",
   "execution_count": 31,
   "metadata": {},
   "outputs": [
    {
     "name": "stdout",
     "output_type": "stream",
     "text": [
      "55\n"
     ]
    }
   ],
   "source": [
    "# sum of natural numbers in between range(1,100)\n",
    "sum1=0\n",
    "for i in range(1,11):\n",
    "    sum1=sum1+i\n",
    "print(sum1)"
   ]
  },
  {
   "cell_type": "code",
   "execution_count": 24,
   "metadata": {},
   "outputs": [
    {
     "name": "stdout",
     "output_type": "stream",
     "text": [
      "30\n"
     ]
    }
   ],
   "source": [
    "#sum of even numbers in between range(1,11)\n",
    "\n",
    "s=0\n",
    "for num in range(1,11):\n",
    "    if (num%2==0):\n",
    "        s=s+num\n",
    "print(s)"
   ]
  },
  {
   "cell_type": "code",
   "execution_count": 34,
   "metadata": {},
   "outputs": [
    {
     "name": "stdout",
     "output_type": "stream",
     "text": [
      "ending number is:8\n",
      "16\n"
     ]
    }
   ],
   "source": [
    "# sum of odd numbrs in between range(dynamically)\n",
    "#n1=int(input('starting number is:'))\n",
    "n2=int(input('ending number is:'))\n",
    "res=0\n",
    "for i in range(n2+1):\n",
    "    if (i%2!=0):\n",
    "        res=res+i\n",
    "print(res)"
   ]
  },
  {
   "cell_type": "code",
   "execution_count": 38,
   "metadata": {},
   "outputs": [
    {
     "name": "stdout",
     "output_type": "stream",
     "text": [
      "10 9 8 7 6 5 4 3 2 1 "
     ]
    }
   ],
   "source": [
    "for i in range(10,0,-1):#range(0,10)\n",
    "    print(i,end=' ')"
   ]
  },
  {
   "cell_type": "markdown",
   "metadata": {},
   "source": [
    "#### While loop\n",
    "```python\n",
    "while (condition):\n",
    "    statement1\n",
    "    statement2\n",
    "    statment3..\n",
    "```"
   ]
  },
  {
   "cell_type": "code",
   "execution_count": 42,
   "metadata": {},
   "outputs": [
    {
     "name": "stdout",
     "output_type": "stream",
     "text": [
      "1 2 3 4 5 6 7 8 9 10 "
     ]
    }
   ],
   "source": [
    "# print 1 to 10 natural numbers using while\n",
    "a=1\n",
    "while (a<=10):\n",
    "    print(a,end=' ')\n",
    "    a=a+1"
   ]
  },
  {
   "cell_type": "code",
   "execution_count": 47,
   "metadata": {},
   "outputs": [
    {
     "name": "stdout",
     "output_type": "stream",
     "text": [
      "2550\n"
     ]
    }
   ],
   "source": [
    "# print sum of even numbers in between 1 to 100 using while loop\n",
    "a=1\n",
    "res=0\n",
    "while(a<=100):\n",
    "    if (a%2==0):\n",
    "        res=res+a\n",
    "    a=a+1\n",
    "print(res)"
   ]
  },
  {
   "cell_type": "code",
   "execution_count": 45,
   "metadata": {},
   "outputs": [
    {
     "data": {
      "text/plain": [
       "30"
      ]
     },
     "execution_count": 45,
     "metadata": {},
     "output_type": "execute_result"
    }
   ],
   "source": [
    "2+4+6+8+10"
   ]
  },
  {
   "cell_type": "code",
   "execution_count": 48,
   "metadata": {},
   "outputs": [
    {
     "name": "stdout",
     "output_type": "stream",
     "text": [
      "enter a number:8\n",
      "40320\n"
     ]
    }
   ],
   "source": [
    "# factorial of a given number\n",
    "a=int(input('enter a number:'))\n",
    "fact=1\n",
    "for i in range(1,a+1):\n",
    "    fact=fact*i\n",
    "print(fact)"
   ]
  },
  {
   "cell_type": "code",
   "execution_count": 49,
   "metadata": {},
   "outputs": [
    {
     "name": "stdout",
     "output_type": "stream",
     "text": [
      "enter a number:8\n",
      "40320\n"
     ]
    }
   ],
   "source": [
    "a=int(input('enter a number:'))\n",
    "fact=1\n",
    "while(a>=1):\n",
    "    fact=fact*a\n",
    "    a=a-1\n",
    "print(fact)"
   ]
  },
  {
   "cell_type": "code",
   "execution_count": null,
   "metadata": {},
   "outputs": [],
   "source": []
  }
 ],
 "metadata": {
  "kernelspec": {
   "display_name": "Python 3",
   "language": "python",
   "name": "python3"
  },
  "language_info": {
   "codemirror_mode": {
    "name": "ipython",
    "version": 3
   },
   "file_extension": ".py",
   "mimetype": "text/x-python",
   "name": "python",
   "nbconvert_exporter": "python",
   "pygments_lexer": "ipython3",
   "version": "3.7.6"
  }
 },
 "nbformat": 4,
 "nbformat_minor": 4
}
