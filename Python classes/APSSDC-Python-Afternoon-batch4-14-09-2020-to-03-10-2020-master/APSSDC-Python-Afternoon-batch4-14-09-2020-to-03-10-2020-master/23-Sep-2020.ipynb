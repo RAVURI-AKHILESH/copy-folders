{
 "cells": [
  {
   "cell_type": "markdown",
   "metadata": {},
   "source": [
    "- File Handling\n",
    "    - What is file\n",
    "    - What is file handling\n",
    "    - File methods\n",
    "    - Different mods\n",
    "    - Use of 'with' statement\n",
    "    "
   ]
  },
  {
   "cell_type": "markdown",
   "metadata": {},
   "source": [
    "- File\n",
    "    - File is named location on disk used to store related information\n",
    "    - ex: .exe,.mp3,.mp4,.txt,.ipynb,.jpg,.obj,.png etc..\n",
    "    \n",
    "- File handling\n",
    "    - creating, reading, update and delete\n",
    "    \n",
    "    - create\n",
    "    - open\n",
    "    - Work \n",
    "    - close\n",
    "   \n",
    "- File methods\n",
    "    - open()\n",
    "        - Syntax: file_obj = open('filename',mode)\n",
    "    - close()\n",
    "        - Syntax: file_obj.close()\n",
    "    - read()\n",
    "        - Syntax: file_obj.read(size)\n",
    "    - write()\n",
    "        - Syntax: file_obj.write(data)\n",
    "    \n",
    "- Different modes\n",
    "    - open('filename',mode)\n",
    "    - open('filename','r')\n",
    "    - open('filename','w')\n",
    "    - open('filename','a')\n",
    "    - open('filename','r+')\n",
    "    - open('filename','w+')\n",
    "    - open('filename','a+')\n",
    "    \n",
    "- Use of with statements\n",
    "    - The best way to close a file by using the with statement"
   ]
  },
  {
   "cell_type": "code",
   "execution_count": 6,
   "metadata": {},
   "outputs": [
    {
     "name": "stdout",
     "output_type": "stream",
     "text": [
      "Existed\n"
     ]
    }
   ],
   "source": [
    "## file opening\n",
    "\n",
    "f = open('file.txt')\n",
    "if f:\n",
    "    print('Existed')\n",
    "f.close()\n",
    "    "
   ]
  },
  {
   "cell_type": "code",
   "execution_count": 9,
   "metadata": {},
   "outputs": [
    {
     "name": "stdout",
     "output_type": "stream",
     "text": [
      "hello everyone\n",
      "welcome to today's class \n",
      "Today we are learning File handling topic in python\n",
      "Thank you \n"
     ]
    }
   ],
   "source": [
    "## file data reading \n",
    "\n",
    "f = open('file.txt','r')\n",
    "data = f.read()\n",
    "print(data)\n",
    "f.close()"
   ]
  },
  {
   "cell_type": "code",
   "execution_count": 11,
   "metadata": {},
   "outputs": [
    {
     "name": "stdout",
     "output_type": "stream",
     "text": [
      "hello ev\n"
     ]
    }
   ],
   "source": [
    "f = open('file.txt','r')\n",
    "data = f.read(8)\n",
    "print(data)\n",
    "f.close()"
   ]
  },
  {
   "cell_type": "markdown",
   "metadata": {},
   "source": [
    "- File objective methods\n",
    "    - seek()\n",
    "        - used to change the cursor position\n",
    "    - tell()\n",
    "        - used to know the cursor position"
   ]
  },
  {
   "cell_type": "code",
   "execution_count": 13,
   "metadata": {},
   "outputs": [
    {
     "name": "stdout",
     "output_type": "stream",
     "text": [
      "8\n",
      "12\n"
     ]
    }
   ],
   "source": [
    "f = open('file.txt','r')\n",
    "data = f.read(8)\n",
    "print(f.tell())\n",
    "f.seek(12)\n",
    "print(f.tell())\n",
    "f.close()"
   ]
  },
  {
   "cell_type": "code",
   "execution_count": 16,
   "metadata": {},
   "outputs": [],
   "source": [
    "f1 = open('apssdc.txt','w')\n",
    "f1.close()"
   ]
  },
  {
   "cell_type": "code",
   "execution_count": 22,
   "metadata": {},
   "outputs": [],
   "source": [
    "with open('apssdc.txt','w') as f1:\n",
    "    f1.write('Stay home stay safe')"
   ]
  },
  {
   "cell_type": "code",
   "execution_count": 20,
   "metadata": {},
   "outputs": [],
   "source": [
    "with open('ap.txt','a') as f2:\n",
    "    f2.write('hii hello how are you')"
   ]
  },
  {
   "cell_type": "code",
   "execution_count": 24,
   "metadata": {},
   "outputs": [],
   "source": [
    "with open('apssdc.txt','a') as f1:\n",
    "    f1.write('\\nStay home stay safe')"
   ]
  },
  {
   "cell_type": "code",
   "execution_count": 25,
   "metadata": {},
   "outputs": [],
   "source": [
    "with open('apssdc.txt','w') as f1:\n",
    "    f1.write('\\nStay home stay safe')"
   ]
  },
  {
   "cell_type": "code",
   "execution_count": 26,
   "metadata": {},
   "outputs": [
    {
     "data": {
      "text/plain": [
       "\"hello everyone\\nwelcome to today's class \\nToday we are learning File handling topic in python\\nThank you \""
      ]
     },
     "execution_count": 26,
     "metadata": {},
     "output_type": "execute_result"
    }
   ],
   "source": [
    "## read file using function\n",
    "\n",
    "def read_File(filename):\n",
    "    with open(filename,'r') as f:\n",
    "        filedata = f.read()\n",
    "    return filedata\n",
    "\n",
    "read_File('file.txt')\n",
    "\n",
    "\n",
    "    \n",
    "    "
   ]
  },
  {
   "cell_type": "code",
   "execution_count": 27,
   "metadata": {},
   "outputs": [
    {
     "data": {
      "text/plain": [
       "'\\nStay home stay safe'"
      ]
     },
     "execution_count": 27,
     "metadata": {},
     "output_type": "execute_result"
    }
   ],
   "source": [
    "read_File('apssdc.txt')"
   ]
  },
  {
   "cell_type": "code",
   "execution_count": 28,
   "metadata": {},
   "outputs": [
    {
     "data": {
      "text/plain": [
       "'hii hello how are you'"
      ]
     },
     "execution_count": 28,
     "metadata": {},
     "output_type": "execute_result"
    }
   ],
   "source": [
    "read_File('ap.txt')"
   ]
  },
  {
   "cell_type": "code",
   "execution_count": 29,
   "metadata": {},
   "outputs": [
    {
     "data": {
      "text/plain": [
       "4"
      ]
     },
     "execution_count": 29,
     "metadata": {},
     "output_type": "execute_result"
    }
   ],
   "source": [
    "## read lines in a file\n",
    "\n",
    "def readLines(filename):\n",
    "    return len(read_File(filename).split('\\n'))\n",
    "\n",
    "readLines('file.txt')"
   ]
  },
  {
   "cell_type": "code",
   "execution_count": 30,
   "metadata": {},
   "outputs": [
    {
     "data": {
      "text/plain": [
       "4"
      ]
     },
     "execution_count": 30,
     "metadata": {},
     "output_type": "execute_result"
    }
   ],
   "source": [
    "def readLines(filename):\n",
    "    with open(filename) as f:\n",
    "        filedata = f.read()\n",
    "    return len(filedata.split('\\n'))\n",
    "\n",
    "readLines('file.txt')"
   ]
  },
  {
   "cell_type": "code",
   "execution_count": 33,
   "metadata": {},
   "outputs": [
    {
     "name": "stdout",
     "output_type": "stream",
     "text": [
      "['hello', 'all wel', 'come to bigboss']\n"
     ]
    }
   ],
   "source": [
    "s = 'hello#all wel#come to bigboss'\n",
    "print(s.split('#'))\n"
   ]
  },
  {
   "cell_type": "code",
   "execution_count": 35,
   "metadata": {},
   "outputs": [
    {
     "data": {
      "text/plain": [
       "17"
      ]
     },
     "execution_count": 35,
     "metadata": {},
     "output_type": "execute_result"
    }
   ],
   "source": [
    "## Number of words\n",
    "\n",
    "def no_words(filename):\n",
    "    wc = 0\n",
    "    with open(filename) as f:\n",
    "        filedata = f.readlines()\n",
    "        for line in filedata:\n",
    "            words_list = line.split()\n",
    "            wc += len(words_list)\n",
    "    return wc\n",
    "\n",
    "no_words('file.txt')\n",
    "            \n",
    "            \n",
    "            \n",
    "            \n",
    "        \n",
    "        \n",
    "        "
   ]
  },
  {
   "cell_type": "code",
   "execution_count": 36,
   "metadata": {
    "collapsed": true
   },
   "outputs": [
    {
     "name": "stdout",
     "output_type": "stream",
     "text": [
      "d\n",
      "a\n",
      "f\n",
      "j\n",
      "d\n",
      " \n",
      "s\n",
      "a\n",
      "k\n",
      "f\n",
      "d\n",
      "h\n",
      " \n",
      "a\n",
      "i\n",
      "e\n",
      "r\n",
      "u\n"
     ]
    }
   ],
   "source": [
    "s = 'dafjd sakfdh aieru'\n",
    "for i in s:\n",
    "    print(i)"
   ]
  },
  {
   "cell_type": "markdown",
   "metadata": {},
   "source": [
    "- Task\n",
    "    -1. Freqency of word\n",
    "        - i/p (filename,'to')\n",
    "        - o/p 2\n",
    "        \n",
    "    -2. { hello:1, everyone:1, welcome:1, to:2 .....}\n",
    "    "
   ]
  },
  {
   "cell_type": "code",
   "execution_count": 15,
   "metadata": {},
   "outputs": [
    {
     "data": {
      "text/plain": [
       "0"
      ]
     },
     "execution_count": 15,
     "metadata": {},
     "output_type": "execute_result"
    }
   ],
   "source": [
    "def freq_word(filename,word):\n",
    "    c = 0\n",
    "    with open(filename,'r') as f:\n",
    "        filedata = f.readlines()\n",
    "        for line in filedata:\n",
    "            wordlist = line.split()\n",
    "            for i in wordlist:\n",
    "                if word == i:\n",
    "                    c += 1\n",
    "    return c\n",
    "\n",
    "freq_word('file.txt','t')\n",
    "                    \n",
    "                "
   ]
  },
  {
   "cell_type": "code",
   "execution_count": 16,
   "metadata": {},
   "outputs": [
    {
     "data": {
      "text/plain": [
       "{'hello': 1,\n",
       " 'everyone': 1,\n",
       " 'welcome': 1,\n",
       " 'to': 2,\n",
       " \"today's\": 1,\n",
       " 'class': 1,\n",
       " 'Today': 1,\n",
       " 'we': 1,\n",
       " 'are': 1,\n",
       " 'goint': 1,\n",
       " 'learning': 1,\n",
       " 'File': 1,\n",
       " 'handling': 1,\n",
       " 'topic': 1,\n",
       " 'in': 1,\n",
       " 'python': 1,\n",
       " 'Thank': 1,\n",
       " 'you': 1}"
      ]
     },
     "execution_count": 16,
     "metadata": {},
     "output_type": "execute_result"
    }
   ],
   "source": [
    "def dictionary(filename):\n",
    "    freq_dict = {}\n",
    "    with open(filename) as f:\n",
    "        filedata = f.readlines()\n",
    "        for line in filedata:\n",
    "            words_list = line.split()\n",
    "            for word in words_list:\n",
    "                if word not in freq_dict:\n",
    "                    freq_dict[word] = 1\n",
    "                else:\n",
    "                    freq_dict[word] += 1\n",
    "    return freq_dict \n",
    "\n",
    "dictionary('file.txt')\n",
    "    \n",
    "                    \n",
    "                    \n",
    "                    \n",
    "    "
   ]
  },
  {
   "cell_type": "code",
   "execution_count": null,
   "metadata": {},
   "outputs": [],
   "source": [
    "### hello\n",
    "## (filename,'k')\n"
   ]
  },
  {
   "cell_type": "code",
   "execution_count": 31,
   "metadata": {},
   "outputs": [
    {
     "data": {
      "text/plain": [
       "1"
      ]
     },
     "execution_count": 31,
     "metadata": {},
     "output_type": "execute_result"
    }
   ],
   "source": [
    "g = 'hello'\n",
    "g.find('l')\n",
    "g.count('h')"
   ]
  },
  {
   "cell_type": "code",
   "execution_count": 34,
   "metadata": {},
   "outputs": [
    {
     "data": {
      "text/plain": [
       "2"
      ]
     },
     "execution_count": 34,
     "metadata": {},
     "output_type": "execute_result"
    }
   ],
   "source": [
    "def student(filename,ch):\n",
    "    cc = 0\n",
    "    with open(filename) as f:\n",
    "        filedata = f.readlines()\n",
    "        for line in filedata:\n",
    "            t = line.count(ch)\n",
    "            cc += t\n",
    "    return cc\n",
    "\n",
    "student('file.txt','z')\n",
    "        \n",
    "        "
   ]
  },
  {
   "cell_type": "code",
   "execution_count": 23,
   "metadata": {},
   "outputs": [
    {
     "data": {
      "text/plain": [
       "0"
      ]
     },
     "execution_count": 23,
     "metadata": {},
     "output_type": "execute_result"
    }
   ],
   "source": [
    "def student(filename,ch):\n",
    "    cc = 0\n",
    "    with open(filename) as f:\n",
    "        filedata = f.readlines()\n",
    "        for line in filedata:\n",
    "            words_list = line.split()\n",
    "            for i in words_list:\n",
    "                if i == ch:\n",
    "                    cc+=1\n",
    "                    \n",
    "    return cc\n",
    "\n",
    "student('file.txt','y')"
   ]
  },
  {
   "cell_type": "code",
   "execution_count": 24,
   "metadata": {},
   "outputs": [
    {
     "name": "stdout",
     "output_type": "stream",
     "text": [
      "['__add__', '__class__', '__contains__', '__delattr__', '__delitem__', '__dir__', '__doc__', '__eq__', '__format__', '__ge__', '__getattribute__', '__getitem__', '__gt__', '__hash__', '__iadd__', '__imul__', '__init__', '__init_subclass__', '__iter__', '__le__', '__len__', '__lt__', '__mul__', '__ne__', '__new__', '__reduce__', '__reduce_ex__', '__repr__', '__reversed__', '__rmul__', '__setattr__', '__setitem__', '__sizeof__', '__str__', '__subclasshook__', 'append', 'clear', 'copy', 'count', 'extend', 'index', 'insert', 'pop', 'remove', 'reverse', 'sort'] "
     ]
    }
   ],
   "source": [
    "print(dir(list),end=' ')"
   ]
  },
  {
   "cell_type": "code",
   "execution_count": 29,
   "metadata": {},
   "outputs": [
    {
     "data": {
      "text/plain": [
       "1"
      ]
     },
     "execution_count": 29,
     "metadata": {},
     "output_type": "execute_result"
    }
   ],
   "source": [
    "g = 'nandini'\n",
    "g.count('d')"
   ]
  },
  {
   "cell_type": "code",
   "execution_count": 39,
   "metadata": {},
   "outputs": [
    {
     "data": {
      "text/plain": [
       "6"
      ]
     },
     "execution_count": 39,
     "metadata": {},
     "output_type": "execute_result"
    }
   ],
   "source": [
    "## character count\n",
    "\n",
    "def student(filename,ch):\n",
    "    cc = 0\n",
    "    with open(filename) as f:\n",
    "        filedata = f.readlines()\n",
    "        for line in filedata:\n",
    "            wl = line.split()\n",
    "            for i in wl:\n",
    "                t = i.count(ch)\n",
    "                cc += t\n",
    "    return cc\n",
    "\n",
    "student('file.txt','h')"
   ]
  },
  {
   "cell_type": "code",
   "execution_count": 40,
   "metadata": {},
   "outputs": [
    {
     "data": {
      "text/plain": [
       "[1, 7, 6, 4, 6]"
      ]
     },
     "execution_count": 40,
     "metadata": {},
     "output_type": "execute_result"
    }
   ],
   "source": [
    "a = [1,7,6,4,6]\n",
    "a"
   ]
  },
  {
   "cell_type": "code",
   "execution_count": 47,
   "metadata": {},
   "outputs": [
    {
     "name": "stdout",
     "output_type": "stream",
     "text": [
      "5 6 4 3 fd 0.7\n"
     ]
    },
    {
     "data": {
      "text/plain": [
       "['5', '6', '4', '3', 'fd', '0.7']"
      ]
     },
     "execution_count": 47,
     "metadata": {},
     "output_type": "execute_result"
    }
   ],
   "source": [
    "## dynamic way of reading for list\n",
    "\n",
    "a = input().split()\n",
    "a"
   ]
  },
  {
   "cell_type": "code",
   "execution_count": 46,
   "metadata": {
    "scrolled": true
   },
   "outputs": [
    {
     "name": "stdout",
     "output_type": "stream",
     "text": [
      "1\n",
      "2\n",
      "3\n",
      "5\n",
      "6\n",
      "7\n",
      "8\n"
     ]
    }
   ],
   "source": [
    "for i in a:\n",
    "    print(int(i))"
   ]
  },
  {
   "cell_type": "code",
   "execution_count": 50,
   "metadata": {},
   "outputs": [
    {
     "name": "stdout",
     "output_type": "stream",
     "text": [
      "hello everyone\n",
      "welcome to today's class\n",
      "Today we are goint to learning File handling topic in python\n",
      "Thank you z z\n",
      "h h\n",
      "\n",
      "\n",
      "\n",
      "\n",
      "\n",
      "\n"
     ]
    }
   ],
   "source": [
    "with open(r'C:\\Users\\Nandini\\Desktop\\14-Sep-2020_to_10-Oct-2020\\file.txt') as f:\n",
    "    data =f.read()\n",
    "    print(data)"
   ]
  },
  {
   "cell_type": "code",
   "execution_count": null,
   "metadata": {},
   "outputs": [],
   "source": []
  }
 ],
 "metadata": {
  "kernelspec": {
   "display_name": "Python 3",
   "language": "python",
   "name": "python3"
  },
  "language_info": {
   "codemirror_mode": {
    "name": "ipython",
    "version": 3
   },
   "file_extension": ".py",
   "mimetype": "text/x-python",
   "name": "python",
   "nbconvert_exporter": "python",
   "pygments_lexer": "ipython3",
   "version": "3.8.3"
  }
 },
 "nbformat": 4,
 "nbformat_minor": 4
}
