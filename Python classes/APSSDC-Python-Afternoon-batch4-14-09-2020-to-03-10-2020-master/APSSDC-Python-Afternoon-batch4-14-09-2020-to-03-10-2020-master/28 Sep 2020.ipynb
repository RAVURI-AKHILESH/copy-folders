{
 "cells": [
  {
   "cell_type": "markdown",
   "metadata": {},
   "source": [
    "## Object Oriented Programming\n",
    "- Class\n",
    "    - collection of data members and member functions\n",
    "- Object\n",
    "    - Instance of a class\n",
    "- Inheritance"
   ]
  },
  {
   "cell_type": "code",
   "execution_count": 1,
   "metadata": {},
   "outputs": [
    {
     "data": {
      "text/plain": [
       "<__main__.Sample at 0x1d52bc33240>"
      ]
     },
     "execution_count": 1,
     "metadata": {},
     "output_type": "execute_result"
    }
   ],
   "source": [
    "class Sample:\n",
    "    pass\n",
    "ob = Sample()\n",
    "ob"
   ]
  },
  {
   "cell_type": "code",
   "execution_count": 2,
   "metadata": {},
   "outputs": [
    {
     "data": {
      "text/plain": [
       "<__main__.Example at 0x1d52bc33630>"
      ]
     },
     "execution_count": 2,
     "metadata": {},
     "output_type": "execute_result"
    }
   ],
   "source": [
    "class Example:\n",
    "    '''This a string'''\n",
    "    \n",
    "o1 = Example()\n",
    "o1"
   ]
  },
  {
   "cell_type": "code",
   "execution_count": 3,
   "metadata": {},
   "outputs": [
    {
     "data": {
      "text/plain": [
       "'This a string'"
      ]
     },
     "execution_count": 3,
     "metadata": {},
     "output_type": "execute_result"
    }
   ],
   "source": [
    "o1.__doc__"
   ]
  },
  {
   "cell_type": "code",
   "execution_count": 6,
   "metadata": {},
   "outputs": [
    {
     "name": "stdout",
     "output_type": "stream",
     "text": [
      "abc 123 cse\n"
     ]
    }
   ],
   "source": [
    "class student:\n",
    "    def __init__(self,sname,sid,sbranch):\n",
    "        self.sname = sname\n",
    "        self.sid = sid\n",
    "        self.sbranch = sbranch\n",
    "        \n",
    "    def display(self):\n",
    "        print(self.sname,self.sid,self.sbranch)\n",
    "        \n",
    "ob1 = student(\"abc\",123,\"cse\")  \n",
    "ob1.display()"
   ]
  },
  {
   "cell_type": "code",
   "execution_count": 8,
   "metadata": {},
   "outputs": [
    {
     "name": "stdout",
     "output_type": "stream",
     "text": [
      "29\n",
      "enter3\n",
      "enter6\n",
      "18\n"
     ]
    }
   ],
   "source": [
    "class Calculator:\n",
    "    '''this class performs some arithmetic operations'''\n",
    "    def __init__(self,a,b):\n",
    "        self.a = a\n",
    "        self.b = b\n",
    "        \n",
    "    def add(self):\n",
    "        print(self.a+self.b)\n",
    "        \n",
    "    def mul(n1,n2):\n",
    "        print(n1*n2)\n",
    "        \n",
    "obj = Calculator(10,19)\n",
    "obj.add()\n",
    "Calculator.mul(int(input(\"enter\")),int(input(\"enter\")))"
   ]
  },
  {
   "cell_type": "markdown",
   "metadata": {},
   "source": [
    "### Inheritance\n",
    "- Extracting Properties from one class to another class\n",
    "#### Types\n",
    "- Single\n",
    "- Multilevel\n",
    "- Multiple\n",
    "- Hierachical"
   ]
  },
  {
   "cell_type": "code",
   "execution_count": 11,
   "metadata": {},
   "outputs": [
    {
     "name": "stdout",
     "output_type": "stream",
     "text": [
      "in child class\n",
      "in one function of Parent class\n",
      "in one function of Parent class\n"
     ]
    }
   ],
   "source": [
    "# single - Parent --> child\n",
    "class Parent:\n",
    "    def one(self):\n",
    "        print(\"in one function of Parent class\")\n",
    "        \n",
    "class Child(Parent):\n",
    "    def two(self):\n",
    "        print(\"in child class\")\n",
    "        \n",
    "ob = Child()\n",
    "ob.two()\n",
    "ob.one()\n",
    "\n",
    "ob1 = Parent()\n",
    "ob1.one()\n",
    "#ob1.two()"
   ]
  },
  {
   "cell_type": "code",
   "execution_count": 19,
   "metadata": {},
   "outputs": [
    {
     "name": "stdout",
     "output_type": "stream",
     "text": [
      "entermother\n",
      "enterfather\n",
      "mother father\n",
      "father\n"
     ]
    }
   ],
   "source": [
    "# multiple Inheritance -- M --> \n",
    "#                         F -->child\n",
    "class Mother:\n",
    "    mothername = \"\"\n",
    "    def first(self):\n",
    "        print(self.mothername)\n",
    "        \n",
    "class Father:\n",
    "    fathername = \"\"\n",
    "    def second(self):\n",
    "        print(self.fathername)\n",
    "        \n",
    "class child(Mother,Father):\n",
    "    def parent(self):\n",
    "        print(self.mothername,self.fathername)\n",
    "        \n",
    "ob = child()\n",
    "ob.mothername = input(\"enter\")\n",
    "ob.fathername = input(\"enter\")\n",
    "\n",
    "ob.parent()\n",
    "ob.second()"
   ]
  },
  {
   "cell_type": "code",
   "execution_count": 14,
   "metadata": {},
   "outputs": [
    {
     "name": "stdout",
     "output_type": "stream",
     "text": [
      "grand parent parent\n",
      "grand parent\n",
      "parent\n"
     ]
    }
   ],
   "source": [
    "# multilevel inheritace - A --> B(A) --> C(B)\n",
    "class grandParent:\n",
    "    gpname = \"\"\n",
    "    def A(self):\n",
    "        print(self.gpname)\n",
    "        \n",
    "class Parent(grandParent):\n",
    "    pname = \"\"\n",
    "    def B (self):\n",
    "        print(self.pname)\n",
    "        \n",
    "class child(Parent):\n",
    "    def C(self):\n",
    "        print(self.gpname,self.pname)\n",
    "        \n",
    "obj = child()\n",
    "obj.gpname = \"grand parent\"\n",
    "obj.pname = \"parent\"\n",
    "\n",
    "obj.C()\n",
    "obj.A()\n",
    "obj.B()"
   ]
  },
  {
   "cell_type": "code",
   "execution_count": 15,
   "metadata": {},
   "outputs": [
    {
     "name": "stdout",
     "output_type": "stream",
     "text": [
      "in second function of child1 class\n",
      "in parent class first function\n",
      "in parent class first function\n",
      "in third function of child2 class\n"
     ]
    }
   ],
   "source": [
    "# hierachical inheritance -- A --> B (A)\n",
    "#                            A --> C(A)\n",
    "class parent:\n",
    "    def first(self):\n",
    "        print(\"in parent class first function\")\n",
    "        \n",
    "class child1(parent):\n",
    "    def second(self):\n",
    "        print(\"in second function of child1 class\")\n",
    "        \n",
    "class child2(parent):\n",
    "    def third(self):\n",
    "        print(\"in third function of child2 class\")\n",
    "        \n",
    "ob1 = child1()\n",
    "ob1.second()\n",
    "ob1.first()\n",
    "\n",
    "ob2 = child2()\n",
    "ob2.first()\n",
    "ob2.third()"
   ]
  },
  {
   "cell_type": "code",
   "execution_count": null,
   "metadata": {},
   "outputs": [],
   "source": []
  }
 ],
 "metadata": {
  "kernelspec": {
   "display_name": "Python 3",
   "language": "python",
   "name": "python3"
  },
  "language_info": {
   "codemirror_mode": {
    "name": "ipython",
    "version": 3
   },
   "file_extension": ".py",
   "mimetype": "text/x-python",
   "name": "python",
   "nbconvert_exporter": "python",
   "pygments_lexer": "ipython3",
   "version": "3.7.1"
  }
 },
 "nbformat": 4,
 "nbformat_minor": 2
}
