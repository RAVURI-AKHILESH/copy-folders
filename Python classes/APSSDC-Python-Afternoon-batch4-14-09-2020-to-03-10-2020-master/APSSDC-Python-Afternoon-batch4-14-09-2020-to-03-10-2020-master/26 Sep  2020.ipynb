{
 "cells": [
  {
   "cell_type": "markdown",
   "metadata": {},
   "source": [
    "### Regular Expression\n",
    "- Regex is a sequence of characters that match a pattern \n",
    "- also known as re or RegEx\n",
    "- import re\n",
    "#### Methods\n",
    "- match()\n",
    "- search()\n",
    "- findall()"
   ]
  },
  {
   "cell_type": "code",
   "execution_count": 1,
   "metadata": {},
   "outputs": [],
   "source": [
    "import re"
   ]
  },
  {
   "cell_type": "code",
   "execution_count": 2,
   "metadata": {},
   "outputs": [],
   "source": [
    "re.match(\"python\",'y')"
   ]
  },
  {
   "cell_type": "code",
   "execution_count": 6,
   "metadata": {},
   "outputs": [
    {
     "data": {
      "text/plain": [
       "<re.Match object; span=(0, 1), match='p'>"
      ]
     },
     "execution_count": 6,
     "metadata": {},
     "output_type": "execute_result"
    }
   ],
   "source": [
    "re.match(\"p\",\"python\")"
   ]
  },
  {
   "cell_type": "code",
   "execution_count": 8,
   "metadata": {},
   "outputs": [
    {
     "data": {
      "text/plain": [
       "<re.Match object; span=(2, 6), match='thon'>"
      ]
     },
     "execution_count": 8,
     "metadata": {},
     "output_type": "execute_result"
    }
   ],
   "source": [
    "re.search(\"thon\",\"python\")"
   ]
  },
  {
   "cell_type": "code",
   "execution_count": 9,
   "metadata": {},
   "outputs": [
    {
     "data": {
      "text/plain": [
       "<re.Match object; span=(1, 2), match='o'>"
      ]
     },
     "execution_count": 9,
     "metadata": {},
     "output_type": "execute_result"
    }
   ],
   "source": [
    "re.search(\"o\",\"book\")"
   ]
  },
  {
   "cell_type": "code",
   "execution_count": 10,
   "metadata": {},
   "outputs": [
    {
     "data": {
      "text/plain": [
       "['o', 'o']"
      ]
     },
     "execution_count": 10,
     "metadata": {},
     "output_type": "execute_result"
    }
   ],
   "source": [
    "re.findall(\"o\",\"book\")"
   ]
  },
  {
   "cell_type": "markdown",
   "metadata": {},
   "source": [
    "- Symbol  Usecase\n",
    "- ^          matches the begining\n",
    "- []         represents a character\n",
    "- .          matches any character\n",
    "- +          one or more occurences\n",
    "- *          zero or more occurences\n",
    "- {}         range set\n",
    "- [a-zA-Z]   any alphabet\n",
    "- [0-9]      any digit\n",
    "- |           OR\n",
    "- $          matches the ending"
   ]
  },
  {
   "cell_type": "code",
   "execution_count": 15,
   "metadata": {},
   "outputs": [
    {
     "name": "stdout",
     "output_type": "stream",
     "text": [
      "enter namedivya\n"
     ]
    },
    {
     "data": {
      "text/plain": [
       "False"
      ]
     },
     "execution_count": 15,
     "metadata": {},
     "output_type": "execute_result"
    }
   ],
   "source": [
    "def NameExample(names):\n",
    "    pattern = '^[A-Z][a-z]{4}$'\n",
    "    if re.match(pattern,names):\n",
    "        return True\n",
    "    return False\n",
    "names = input(\"enter name\")\n",
    "NameExample(names)"
   ]
  },
  {
   "cell_type": "markdown",
   "metadata": {},
   "source": [
    "#### Phone number Validation\n",
    "- 10 digits\n",
    "    - 8907654321\n",
    "    - accepts only digits\n",
    "    - starting with 6-9 and remaining 9 charcters will be among 0 to 9\n",
    "    - ^[6-9][0-9]{9}\n",
    "- 11 digits\n",
    "    - 08907654321\n",
    "    - starting with 0 and remaining is same as 10 digits\n",
    "    - ^[0][6-9][0-9]{9}\n",
    "- 12 digits\n",
    "    - + 91 8907654321\n",
    "    - starts with +91 and remaining is same as 10 digits\n",
    "    - ^[+][9][1][6-9][0-9]{9}"
   ]
  },
  {
   "cell_type": "code",
   "execution_count": 21,
   "metadata": {},
   "outputs": [
    {
     "name": "stdout",
     "output_type": "stream",
     "text": [
      "enter phone number:+9178906543\n"
     ]
    },
    {
     "data": {
      "text/plain": [
       "False"
      ]
     },
     "execution_count": 21,
     "metadata": {},
     "output_type": "execute_result"
    }
   ],
   "source": [
    "def phoneNumber(number):\n",
    "    pattern = '^[6-9][0-9]{9}$|^[0][6-9][0-9]{9}$|^[+][9][1][6-9][0-9]{9}$'\n",
    "    if re.match(pattern,number):\n",
    "        return True\n",
    "    return False\n",
    "number = input(\"enter phone number:\")\n",
    "phoneNumber(number)"
   ]
  },
  {
   "cell_type": "markdown",
   "metadata": {},
   "source": [
    "#### Email Validation\n",
    "- abcde.f@gmail.com\n",
    "- Username \n",
    "    - abcdefghijklmn.o\n",
    "    - accepts lower case alphabet and digits\n",
    "    - contains .,_\n",
    "    - does not accept any special characters\n",
    "    - minimum 6 characters and maximum 30 characters\n",
    "    - ^[a-z0-9][a-z0-9._]{4,28}[0-9a-z]\n",
    "- domain\n",
    "    - gmail\n",
    "    - contains alphabet and digits\n",
    "    - No special characters are allowed\n",
    "    - minimum 5 characters and maximum 18 characters\n",
    "    - [a-z0-9]{5,18}\n",
    "- extension\n",
    "    - com\n",
    "    - contains alphabet\n",
    "    - No special characters and digits are allowed\n",
    "    - minimum 2 and maximum 5 characters\n",
    "    - [a-z]{2,5}"
   ]
  },
  {
   "cell_type": "code",
   "execution_count": 29,
   "metadata": {},
   "outputs": [
    {
     "name": "stdout",
     "output_type": "stream",
     "text": [
      "enter mailid:abcde.f@gmail.com\n"
     ]
    },
    {
     "data": {
      "text/plain": [
       "True"
      ]
     },
     "execution_count": 29,
     "metadata": {},
     "output_type": "execute_result"
    }
   ],
   "source": [
    "def emailValidation(mail):\n",
    "    pattern = '^[a-z0-9][a-z0-9._]{4,28}[0-9a-z][@][a-z0-9]{5,18}[.][a-z]{2,5}$'\n",
    "    if re.match(pattern,mail):\n",
    "        return True\n",
    "    return False\n",
    "mail = input(\"enter mailid:\")\n",
    "emailValidation(mail)"
   ]
  },
  {
   "cell_type": "code",
   "execution_count": null,
   "metadata": {},
   "outputs": [],
   "source": []
  }
 ],
 "metadata": {
  "kernelspec": {
   "display_name": "Python 3",
   "language": "python",
   "name": "python3"
  },
  "language_info": {
   "codemirror_mode": {
    "name": "ipython",
    "version": 3
   },
   "file_extension": ".py",
   "mimetype": "text/x-python",
   "name": "python",
   "nbconvert_exporter": "python",
   "pygments_lexer": "ipython3",
   "version": "3.7.1"
  }
 },
 "nbformat": 4,
 "nbformat_minor": 2
}
