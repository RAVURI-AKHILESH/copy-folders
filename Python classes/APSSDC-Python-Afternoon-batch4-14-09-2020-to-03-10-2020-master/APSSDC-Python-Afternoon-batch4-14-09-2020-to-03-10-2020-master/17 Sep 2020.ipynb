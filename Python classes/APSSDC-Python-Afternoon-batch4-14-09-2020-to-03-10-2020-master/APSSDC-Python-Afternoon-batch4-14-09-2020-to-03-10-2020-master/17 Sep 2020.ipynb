{
 "cells": [
  {
   "cell_type": "markdown",
   "metadata": {},
   "source": [
    "## Loops conti..."
   ]
  },
  {
   "cell_type": "code",
   "execution_count": null,
   "metadata": {},
   "outputs": [],
   "source": [
    "15\n",
    "\n",
    "1 3 5 15  "
   ]
  },
  {
   "cell_type": "code",
   "execution_count": 6,
   "metadata": {},
   "outputs": [
    {
     "name": "stdout",
     "output_type": "stream",
     "text": [
      "enter number: 5\n",
      "1 5 \n",
      "factor count is:  2\n"
     ]
    }
   ],
   "source": [
    "## Factors and factors count\n",
    "\n",
    "t = int(input('enter number: '))\n",
    "fc = 0\n",
    "for y in range(1,t+1):\n",
    "    if t%y == 0:\n",
    "        print(y, end=' ')\n",
    "        fc = fc + 1 ## fc += 1\n",
    "## print()\n",
    "print('\\nfactor count is: ',fc)\n",
    "\n",
    "    "
   ]
  },
  {
   "cell_type": "code",
   "execution_count": 8,
   "metadata": {},
   "outputs": [
    {
     "name": "stdout",
     "output_type": "stream",
     "text": [
      "5\n",
      "factorial is:  120\n"
     ]
    }
   ],
   "source": [
    "### Factorial\n",
    "## 4 !\n",
    "## 4*3*2*1 = 24\n",
    "\n",
    "r = int(input()) ## 4\n",
    "f = 1\n",
    "for i in range(1,r+1):\n",
    "    f = f*i ## 1*2*3*4\n",
    "print('factorial is: ',f)\n"
   ]
  },
  {
   "cell_type": "code",
   "execution_count": 9,
   "metadata": {},
   "outputs": [
    {
     "name": "stdout",
     "output_type": "stream",
     "text": [
      "5\n",
      "5 * 1 = 5\n",
      "5 * 2 = 10\n",
      "5 * 3 = 15\n",
      "5 * 4 = 20\n",
      "5 * 5 = 25\n",
      "5 * 6 = 30\n",
      "5 * 7 = 35\n",
      "5 * 8 = 40\n",
      "5 * 9 = 45\n",
      "5 * 10 = 50\n"
     ]
    }
   ],
   "source": [
    "## 5\n",
    "## 5*1 = 5\n",
    "## 5*2 = 10\n",
    "## 5*3 = 15\n",
    "## --\n",
    "## --\n",
    "## 5 *10 = 50\n",
    "\n",
    "r = int(input())\n",
    "for j in range(1,11):\n",
    "    print(r,'*',j,'=',r*j)\n",
    "\n",
    "\n"
   ]
  },
  {
   "cell_type": "code",
   "execution_count": 14,
   "metadata": {},
   "outputs": [
    {
     "name": "stdout",
     "output_type": "stream",
     "text": [
      "enter starting range: 1\n",
      "enter end range: 30\n",
      "2 4 6 8 10 12 14 16 18 20 22 24 26 28 30 \n",
      "even number sum is:  240\n",
      "1 3 5 7 9 11 13 15 17 19 21 23 25 27 29 \n",
      "odd numbers sum is:  225\n",
      "total sum is:  465\n"
     ]
    }
   ],
   "source": [
    "## 1 -- 10\n",
    "## 2 4 6 8 10\n",
    "## 30\n",
    "\n",
    "## 1 3 5 7 9\n",
    "## 25\n",
    "\n",
    "sr = int(input('enter starting range: '))\n",
    "er = int(input('enter end range: '))\n",
    "e_sum = o_sum = 0\n",
    "for i in range(sr,er+1):\n",
    "    if i%2 == 0:\n",
    "        print(i,end=' ')\n",
    "        e_sum += i\n",
    "print()\n",
    "print('even number sum is: ',e_sum)\n",
    "for i in range(sr,er+1):\n",
    "    if i%2 != 0:\n",
    "        print(i,end=' ')\n",
    "        o_sum += i\n",
    "print()\n",
    "print('odd numbers sum is: ',o_sum)\n",
    "print('total sum is: ',e_sum+o_sum)\n",
    "    "
   ]
  },
  {
   "cell_type": "code",
   "execution_count": null,
   "metadata": {},
   "outputs": [],
   "source": [
    "## prime number\n",
    "## 5\n",
    "## 1 2 3 4 5\n",
    "## 1 and itself\n",
    "## fc = 2\n",
    "## if fc == 2\n"
   ]
  },
  {
   "cell_type": "code",
   "execution_count": 17,
   "metadata": {},
   "outputs": [
    {
     "name": "stdout",
     "output_type": "stream",
     "text": [
      "2\n",
      "Prime number\n"
     ]
    }
   ],
   "source": [
    "\n",
    "g = int(input())\n",
    "fc = 0\n",
    "for i in range(1,g+1):\n",
    "    if g%i == 0:\n",
    "        fc += 1\n",
    "if fc == 2:\n",
    "    print('Prime number')\n",
    "else:\n",
    "    print('Not prime number')\n",
    "    \n",
    "    \n",
    "        \n",
    "    "
   ]
  },
  {
   "cell_type": "markdown",
   "metadata": {},
   "source": [
    "- Task\n",
    "    - Check the given number is Perfect number or not"
   ]
  },
  {
   "cell_type": "markdown",
   "metadata": {},
   "source": []
  },
  {
   "cell_type": "code",
   "execution_count": null,
   "metadata": {},
   "outputs": [],
   "source": []
  },
  {
   "cell_type": "markdown",
   "metadata": {},
   "source": [
    "- While loop\n",
    "    - which is used to iterate or repeated particular task into multiple times\n",
    "    - syntax\n",
    "    - range is unknown\n",
    "    - execution speed \n",
    "    \n",
    "Syntax:\n",
    "\n",
    "      initialisation\n",
    "      while(condition):\n",
    "          statements\n",
    "          incr/decr\n",
    "          \n",
    "          \n",
    "\n",
    "    "
   ]
  },
  {
   "cell_type": "code",
   "execution_count": 18,
   "metadata": {},
   "outputs": [
    {
     "name": "stdout",
     "output_type": "stream",
     "text": [
      "1 2 3 4 5 6 7 8 9 10 "
     ]
    }
   ],
   "source": [
    "i = 1\n",
    "while i<=10:\n",
    "    print(i,end=' ')\n",
    "    i += 1  ## i = i + 1\n",
    "\n",
    "    "
   ]
  },
  {
   "cell_type": "code",
   "execution_count": 19,
   "metadata": {},
   "outputs": [
    {
     "name": "stdout",
     "output_type": "stream",
     "text": [
      "10 9 8 7 6 5 4 3 2 1 "
     ]
    }
   ],
   "source": [
    "i = 10\n",
    "while i>=1:\n",
    "    print(i,end=' ')\n",
    "    i = i-1\n",
    "    "
   ]
  },
  {
   "cell_type": "code",
   "execution_count": null,
   "metadata": {},
   "outputs": [],
   "source": [
    "## Number of digits in a given number\n",
    "\n",
    "## 7654\n",
    "## 4\n",
    "## 4567\n",
    " \n",
    "  10)7654(765    10)765(76      10)76(7         10)7(0\n",
    "     7650           760            70              0\n",
    "    -------       -------      ---------         ------\n",
    "       4             5             6               7\n",
    "          \n",
    "\n",
    "                                                     \n",
    "                                                     \n",
    "                                                     \n",
    "                                                     \n",
    "\n",
    " "
   ]
  },
  {
   "cell_type": "code",
   "execution_count": 21,
   "metadata": {},
   "outputs": [
    {
     "name": "stdout",
     "output_type": "stream",
     "text": [
      "6432846328746\n",
      "no of digit is:  13\n"
     ]
    }
   ],
   "source": [
    "t = int(input())\n",
    "dc = 0\n",
    "while t!=0:\n",
    "    t = t//10\n",
    "    dc += 1\n",
    "print('no of digit is: ',dc)\n",
    "    "
   ]
  },
  {
   "cell_type": "code",
   "execution_count": 22,
   "metadata": {},
   "outputs": [
    {
     "name": "stdout",
     "output_type": "stream",
     "text": [
      "345874325872\n",
      "278523478543\n"
     ]
    }
   ],
   "source": [
    "## Reverse of the number\n",
    "## 1234\n",
    "## 4321\n",
    "\n",
    "y = int(input())\n",
    "rev = 0\n",
    "while y!=0:\n",
    "    rem = y%10  ##rem = 4 rem = 3 rem 2 rem 1\n",
    "    rev = rev*10+rem ## 0*10+4= 4, rev = 4*10+3=43, rev = 43*10+2 = 432, rev= 432*10+1 = 4321\n",
    "    y = y//10 ## 123 ## 12 ## 1\n",
    "print(rev)\n",
    "    \n",
    "    "
   ]
  },
  {
   "cell_type": "code",
   "execution_count": null,
   "metadata": {},
   "outputs": [],
   "source": [
    "rev = 0\n",
    "\n",
    "rem \n",
    "\n",
    "1234%10  = 4     123%10 = 3   12%10 = 2    1%10 = 1\n",
    "1234//10 = 123   123//10 = 12  12//10 = 1  1//10 = 0"
   ]
  },
  {
   "cell_type": "code",
   "execution_count": 24,
   "metadata": {},
   "outputs": [
    {
     "name": "stdout",
     "output_type": "stream",
     "text": [
      "askdfjdsklfj\n",
      "jflksdjfdksa\n"
     ]
    }
   ],
   "source": [
    "\n",
    "s = input()\n",
    "print(s[::-1])\n"
   ]
  },
  {
   "cell_type": "code",
   "execution_count": 27,
   "metadata": {},
   "outputs": [
    {
     "name": "stdout",
     "output_type": "stream",
     "text": [
      "2134\n",
      "not palindrom\n"
     ]
    }
   ],
   "source": [
    "## Palindrom\n",
    "## 1221\n",
    "## 1221\n",
    "\n",
    "y = int(input())\n",
    "t = y\n",
    "rev = 0\n",
    "while y!=0:\n",
    "    rem = y%10  \n",
    "    rev = rev*10+rem \n",
    "    y = y//10 \n",
    "if t == rev:\n",
    "    print('palindrome')\n",
    "else:\n",
    "    print('not palindrom')\n",
    "\n"
   ]
  },
  {
   "cell_type": "markdown",
   "metadata": {},
   "source": [
    "- Task\n",
    "    - Check the given number is Armstrong or not"
   ]
  },
  {
   "cell_type": "markdown",
   "metadata": {},
   "source": [
    "## nested for\n",
    "- for loop inside for loop\n",
    "\n",
    "Syntax:\n",
    "  for variable in range(start,end,step):\n",
    "      for variable in range(start,end,step):\n",
    "          statements\n",
    "      "
   ]
  },
  {
   "cell_type": "code",
   "execution_count": 30,
   "metadata": {},
   "outputs": [
    {
     "name": "stdout",
     "output_type": "stream",
     "text": [
      "6\n",
      "66\n",
      "7 11 13 17 19 23 29 31 37 41 43 47 53 59 61 "
     ]
    }
   ],
   "source": [
    "## Series of prime numbers generation\n",
    "## 1--10\n",
    "## 1 2 3 4 5 6 7 8 9 10\n",
    "\n",
    "## 2 3 5 7\n",
    "\n",
    "sr = int(input())\n",
    "er = int(input())\n",
    "for i in range(sr,er+1):\n",
    "    fc = 0\n",
    "    for j in range(1,i+1):\n",
    "        if i%j == 0:\n",
    "            fc += 1\n",
    "    if fc == 2:\n",
    "        print(i,end=' ')"
   ]
  },
  {
   "cell_type": "code",
   "execution_count": null,
   "metadata": {},
   "outputs": [],
   "source": [
    "# # # #\n",
    "# # # #\n",
    "# # # #\n",
    "# # # #\n",
    "\n",
    "11 12 13 14\n",
    "21 22 23 24\n",
    "31 32 33 34\n",
    "41 42 43 44\n"
   ]
  },
  {
   "cell_type": "code",
   "execution_count": 34,
   "metadata": {},
   "outputs": [
    {
     "name": "stdout",
     "output_type": "stream",
     "text": [
      "# # # # \n",
      "# # # # \n",
      "# # # # \n",
      "# # # # \n"
     ]
    }
   ],
   "source": [
    "for i in range(1,5):\n",
    "    for j in range(1,5):\n",
    "        print('#',end=' ')\n",
    "    print()"
   ]
  },
  {
   "cell_type": "code",
   "execution_count": null,
   "metadata": {},
   "outputs": [],
   "source": [
    "i =1 \n",
    "j = 1\n",
    "\n",
    "11 12 13 14 \n",
    "21 22 23 24\n",
    "31 32 33 34\n",
    "41 42 43 44\n",
    "\n",
    "@ @ @\n",
    "@   @\n",
    "@ @ @\n"
   ]
  },
  {
   "cell_type": "markdown",
   "metadata": {},
   "source": [
    "## nested while\n"
   ]
  },
  {
   "cell_type": "code",
   "execution_count": null,
   "metadata": {},
   "outputs": [],
   "source": [
    "Syntax:\n",
    "    initialization\n",
    "    while condition:\n",
    "        statements\n",
    "        inc/dec\n",
    "        initialization\n",
    "        while condition:\n",
    "            statements\n",
    "            inc/dec\n",
    "        \n",
    "        "
   ]
  },
  {
   "cell_type": "code",
   "execution_count": 35,
   "metadata": {},
   "outputs": [
    {
     "name": "stdout",
     "output_type": "stream",
     "text": [
      "1 2 3 4 5 6 7 8 9 10 \n",
      "2 4 6 8 10 12 14 16 18 20 \n",
      "3 6 9 12 15 18 21 24 27 30 \n",
      "4 8 12 16 20 24 28 32 36 40 \n",
      "5 10 15 20 25 30 35 40 45 50 \n",
      "6 12 18 24 30 36 42 48 54 60 \n",
      "7 14 21 28 35 42 49 56 63 70 \n",
      "8 16 24 32 40 48 56 64 72 80 \n",
      "9 18 27 36 45 54 63 72 81 90 \n",
      "10 20 30 40 50 60 70 80 90 100 \n"
     ]
    }
   ],
   "source": [
    "## print 1 to 10 tables\n",
    "## 1 2 3 4 5 6 7 8 9 10\n",
    "## 2 4 6 8 10 12 14 16 18 20\n",
    "\n",
    "i = 1\n",
    "while i<=10:\n",
    "    j = 1\n",
    "    while j<=10:\n",
    "        print(i*j,end=' ') \n",
    "        j+=1\n",
    "    print()\n",
    "    i += 1\n",
    "    \n",
    "    \n"
   ]
  },
  {
   "cell_type": "markdown",
   "metadata": {},
   "source": [
    "## Jump Statements\n",
    "\n",
    "- break\n",
    "    - it skip all the interations when we reaches the break\n",
    "- continue\n",
    "    - it skips only current iteration\n",
    "- pass\n",
    "    - it is a keyword which is used to do nothing\n",
    "    - we need syntactically but we do not want to do any operation"
   ]
  },
  {
   "cell_type": "code",
   "execution_count": 39,
   "metadata": {},
   "outputs": [
    {
     "name": "stdout",
     "output_type": "stream",
     "text": [
      "0\n",
      "1\n",
      "2\n",
      "3\n",
      "4\n",
      "5\n"
     ]
    }
   ],
   "source": [
    "for i in range(14):\n",
    "    if i == 6:\n",
    "        break\n",
    "    else:\n",
    "        print(i)"
   ]
  },
  {
   "cell_type": "code",
   "execution_count": 41,
   "metadata": {},
   "outputs": [
    {
     "name": "stdout",
     "output_type": "stream",
     "text": [
      "0 1 2 3 4 5 7 8 9 10 11 12 13 "
     ]
    }
   ],
   "source": [
    "for i in range(14):\n",
    "    if i == 6:\n",
    "        continue\n",
    "    else:\n",
    "        print(i,end=' ')"
   ]
  },
  {
   "cell_type": "code",
   "execution_count": null,
   "metadata": {},
   "outputs": [],
   "source": []
  },
  {
   "cell_type": "code",
   "execution_count": 42,
   "metadata": {},
   "outputs": [
    {
     "name": "stdout",
     "output_type": "stream",
     "text": [
      "7\n"
     ]
    }
   ],
   "source": [
    "n = int(input())\n",
    "if n%2 ==0:\n",
    "    print('even')\n",
    "else:\n",
    "    pass"
   ]
  },
  {
   "cell_type": "code",
   "execution_count": null,
   "metadata": {},
   "outputs": [],
   "source": [
    "5 \n",
    "6\n",
    "\n"
   ]
  }
 ],
 "metadata": {
  "kernelspec": {
   "display_name": "Python 3",
   "language": "python",
   "name": "python3"
  },
  "language_info": {
   "codemirror_mode": {
    "name": "ipython",
    "version": 3
   },
   "file_extension": ".py",
   "mimetype": "text/x-python",
   "name": "python",
   "nbconvert_exporter": "python",
   "pygments_lexer": "ipython3",
   "version": "3.8.3"
  }
 },
 "nbformat": 4,
 "nbformat_minor": 4
}
