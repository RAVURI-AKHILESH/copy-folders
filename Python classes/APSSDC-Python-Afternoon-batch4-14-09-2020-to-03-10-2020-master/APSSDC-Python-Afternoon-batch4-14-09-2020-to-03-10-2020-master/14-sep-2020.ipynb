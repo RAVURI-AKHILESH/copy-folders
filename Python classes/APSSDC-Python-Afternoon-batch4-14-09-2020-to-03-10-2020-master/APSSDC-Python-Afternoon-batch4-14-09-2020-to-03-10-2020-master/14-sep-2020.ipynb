{
 "cells": [
  {
   "cell_type": "markdown",
   "metadata": {},
   "source": [
    "# Python\n",
    "## Python\n",
    "### Python\n",
    "#### Python\n",
    "##### Python\n",
    "###### Python"
   ]
  },
  {
   "cell_type": "markdown",
   "metadata": {},
   "source": [
    "## Python Introduction\n",
    "- python is an interpreted, high-level general purpose programming language.\n",
    "- it was created by Guido Van Rossum.in the year of 1991.\n",
    "#### python comments\n",
    "- single line comment(#)\n",
    "- multiple line comment('''----''')or(\"\"\"---\"\"\")"
   ]
  },
  {
   "cell_type": "code",
   "execution_count": 4,
   "metadata": {},
   "outputs": [
    {
     "name": "stdout",
     "output_type": "stream",
     "text": [
      "40\n"
     ]
    }
   ],
   "source": [
    "# comments\n",
    "\"\"\"x = int(input())\n",
    "y = int(input())\n",
    "c = x+y\"\"\"\n",
    "print(10+30)"
   ]
  },
  {
   "cell_type": "code",
   "execution_count": 1,
   "metadata": {},
   "outputs": [
    {
     "name": "stdout",
     "output_type": "stream",
     "text": [
      "3\n",
      "5\n",
      "8.0\n"
     ]
    }
   ],
   "source": [
    "x = float(input())\n",
    "y = float(input())\n",
    "c = x+y\n",
    "print(c)"
   ]
  },
  {
   "cell_type": "code",
   "execution_count": 5,
   "metadata": {},
   "outputs": [
    {
     "name": "stdout",
     "output_type": "stream",
     "text": [
      "1020\n"
     ]
    }
   ],
   "source": [
    "print('10'+'20')"
   ]
  },
  {
   "cell_type": "markdown",
   "metadata": {},
   "source": [
    "## Advantages\n",
    "- Data Science Library\n",
    "- **object oriented**\n",
    "- ***free and opensource***\n",
    "- *extensible*\n",
    "   - *embedable*\n",
    "   - *Readable*"
   ]
  },
  {
   "cell_type": "markdown",
   "metadata": {},
   "source": [
    "## Applications\n",
    "- GUI\n",
    " - img\n",
    " - scientific\n",
    " - games\n",
    "- web frame works\n",
    "- Enterprise and business applications"
   ]
  },
  {
   "cell_type": "code",
   "execution_count": null,
   "metadata": {},
   "outputs": [],
   "source": []
  }
 ],
 "metadata": {
  "kernelspec": {
   "display_name": "Python 3",
   "language": "python",
   "name": "python3"
  },
  "language_info": {
   "codemirror_mode": {
    "name": "ipython",
    "version": 3
   },
   "file_extension": ".py",
   "mimetype": "text/x-python",
   "name": "python",
   "nbconvert_exporter": "python",
   "pygments_lexer": "ipython3",
   "version": "3.7.6"
  }
 },
 "nbformat": 4,
 "nbformat_minor": 4
}
