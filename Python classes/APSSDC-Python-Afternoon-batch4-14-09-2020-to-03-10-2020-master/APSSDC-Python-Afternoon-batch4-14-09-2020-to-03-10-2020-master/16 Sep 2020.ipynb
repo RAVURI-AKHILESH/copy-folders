{
 "cells": [
  {
   "cell_type": "markdown",
   "metadata": {},
   "source": [
    "## Conditional Statements or Decisional making statements\n",
    "\n",
    "- if statement\n",
    "- if..else statements\n",
    "- if..elif..else statements\n",
    "- nested if\n"
   ]
  },
  {
   "cell_type": "markdown",
   "metadata": {},
   "source": [
    "- when we have a single condition \n",
    "- if Syntax:\n",
    "\n",
    "if(condition):\n",
    "    statements\n",
    "    \n",
    "statements/logic\n",
    "    \n",
    "    "
   ]
  },
  {
   "cell_type": "code",
   "execution_count": 2,
   "metadata": {},
   "outputs": [
    {
     "name": "stdout",
     "output_type": "stream",
     "text": [
      "enter a number: 5\n",
      "enter another number: 2\n"
     ]
    }
   ],
   "source": [
    "## sum of the two number is greater than 10\n",
    "## a,b \n",
    "\n",
    "a = int(input('enter a number: '))\n",
    "b = int(input('enter another number: '))\n",
    "c = a+b\n",
    "if c>10:\n",
    "    print('Sum is greater than 10')\n",
    "\n"
   ]
  },
  {
   "cell_type": "code",
   "execution_count": 4,
   "metadata": {},
   "outputs": [
    {
     "name": "stdout",
     "output_type": "stream",
     "text": [
      "enter number: 34\n",
      "Even number\n"
     ]
    }
   ],
   "source": [
    "n = int(input('enter number: '))\n",
    "if n%2 == 0:\n",
    "    print('Even number')"
   ]
  },
  {
   "cell_type": "code",
   "execution_count": 5,
   "metadata": {},
   "outputs": [
    {
     "name": "stdout",
     "output_type": "stream",
     "text": [
      "odd\n"
     ]
    }
   ],
   "source": [
    "n = 32\n",
    "if n%2 != 0:\n",
    "    print('odd')"
   ]
  },
  {
   "cell_type": "markdown",
   "metadata": {},
   "source": [
    "- if..else\n",
    "- when we want check two conditions in our program\n",
    "\n",
    "Syntax:\n",
    "\n",
    "if condition:\n",
    "    statements\n",
    "else:\n",
    "    statements"
   ]
  },
  {
   "cell_type": "code",
   "execution_count": 7,
   "metadata": {},
   "outputs": [
    {
     "name": "stdout",
     "output_type": "stream",
     "text": [
      "enter number448\n",
      "Even number\n"
     ]
    }
   ],
   "source": [
    "## check the given number is even or odd\n",
    "\n",
    "s = int(input('enter number'))\n",
    "if s%2 == 0:\n",
    "    print('Even number')\n",
    "else:\n",
    "    print('Odd number')\n",
    "    \n",
    "    "
   ]
  },
  {
   "cell_type": "code",
   "execution_count": 10,
   "metadata": {},
   "outputs": [
    {
     "name": "stdout",
     "output_type": "stream",
     "text": [
      "enter first number: 45\n",
      "enter second number: 234\n",
      "234 is big number\n"
     ]
    }
   ],
   "source": [
    "## check the big number for 2 numbers\n",
    "\n",
    "n1 = int(input('enter first number: '))\n",
    "n2 = int(input('enter second number: '))\n",
    "if n1>n2:\n",
    "    print(n1,'is big number')\n",
    "else:\n",
    "    print(n2,'is big number')"
   ]
  },
  {
   "cell_type": "code",
   "execution_count": 12,
   "metadata": {},
   "outputs": [
    {
     "name": "stdout",
     "output_type": "stream",
     "text": [
      "89\n",
      "89 is not existed\n"
     ]
    }
   ],
   "source": [
    "## number existed or not\n",
    "## 5\n",
    "## 1 -- 10\n",
    "\n",
    "t = int(input())\n",
    "if t>=1 and t<=10:\n",
    "    print(t,'is existed')\n",
    "else:\n",
    "    print(t,'is not existed')\n",
    "\n"
   ]
  },
  {
   "cell_type": "markdown",
   "metadata": {},
   "source": [
    "- if..elif..else\n",
    "- when we want to check more than two conditions\n",
    "\n",
    "Syntax:\n",
    "\n",
    "if condition:\n",
    "    statements\n",
    "elif condition:\n",
    "    statements\n",
    "elif condition:\n",
    "   statements\n",
    "   \n",
    "   --\n",
    "   --\n",
    "   --\n",
    "   --\n",
    "else:\n",
    "    statements\n",
    " \n",
    "    "
   ]
  },
  {
   "cell_type": "code",
   "execution_count": 15,
   "metadata": {},
   "outputs": [
    {
     "name": "stdout",
     "output_type": "stream",
     "text": [
      "6\n",
      "5\n",
      "$\n",
      "invalid input\n"
     ]
    }
   ],
   "source": [
    "## mathematical operations\n",
    "## + - * / \n",
    "\n",
    "a = int(input())\n",
    "b = int(input())\n",
    "c = input()\n",
    "if c == '+':\n",
    "    print(a+b)\n",
    "elif c == '-':\n",
    "    print(a-b)\n",
    "elif c == '*':\n",
    "    print(a*b)\n",
    "elif c == '/':\n",
    "    print(a/b)\n",
    "else:\n",
    "    print('invalid input')\n",
    "    \n",
    "\n",
    "    "
   ]
  },
  {
   "cell_type": "code",
   "execution_count": null,
   "metadata": {},
   "outputs": [],
   "source": [
    "## 1 -- Sunday\n",
    "## 2 -- Monday\n",
    "## 3 -- Tuesday\n",
    "## 4 -- Wednesday\n",
    "## 5 -- Thursday\n",
    "## 6 -- Friday\n",
    "## 7 -- Saturday\n"
   ]
  },
  {
   "cell_type": "markdown",
   "metadata": {},
   "source": [
    "- nested if\n",
    "- if block inside if block\n",
    "- Syntax:\n",
    "\n",
    "if condition:\n",
    "    if condition:\n",
    "        statements\n",
    "    else:\n",
    "        statements\n"
   ]
  },
  {
   "cell_type": "code",
   "execution_count": null,
   "metadata": {},
   "outputs": [],
   "source": [
    "- gmail id  condition\n",
    "- password  condition\n"
   ]
  },
  {
   "cell_type": "code",
   "execution_count": 18,
   "metadata": {},
   "outputs": [
    {
     "name": "stdout",
     "output_type": "stream",
     "text": [
      "enter user name: 4\n",
      "enter password: 456876\n",
      "Wrong password\n"
     ]
    }
   ],
   "source": [
    "## id's 1 -- 100\n",
    "    ## pw == 12345\n",
    "    ## wrong password\n",
    "## invalid id number\n",
    "\n",
    "user_id = int(input('enter user name: '))\n",
    "if user_id >= 1 and user_id<=100:\n",
    "    pw = int(input('enter password: '))\n",
    "    if pw == 12345:\n",
    "        print('Done')\n",
    "    else:\n",
    "        print('Wrong password')\n",
    "else:\n",
    "    print('invalid username')\n",
    "\n"
   ]
  },
  {
   "cell_type": "markdown",
   "metadata": {},
   "source": [
    "### Tasks\n",
    "\n",
    "- 1. Positive number or Negative number\n",
    "- 2. Days printing\n",
    "- 3. \n",
    "     - child (0-12 years)\n",
    "     - Teenager (13 - 19 years)\n",
    "     - Adult (19 - 59 years)\n",
    "     - Senior adult (above 60 years)\n",
    "- 4. Check the given number is Digit or Alphabet or Special symbol\n",
    "\n",
    " (0 -- 9)\n",
    " (a--z A--Z)\n",
    " (@#$%^^&...)\n",
    " \n",
    "- 5. even or odd\n",
    "     - even >10\n",
    "         - n**2\n",
    "     - odd\n",
    "    "
   ]
  },
  {
   "cell_type": "code",
   "execution_count": 3,
   "metadata": {},
   "outputs": [
    {
     "name": "stdout",
     "output_type": "stream",
     "text": [
      "$\n",
      "Special symbol\n"
     ]
    }
   ],
   "source": [
    "## task 4\n",
    "\n",
    "n = input()\n",
    "if n>='0' and n<='9':\n",
    "    print('Digit')\n",
    "elif ((n>='a' and n<='z') or (n>='A' and n<='Z')):\n",
    "    print('alphabet')\n",
    "else:\n",
    "    print('Special symbol')\n",
    "    \n",
    "    \n",
    "    "
   ]
  },
  {
   "cell_type": "code",
   "execution_count": 6,
   "metadata": {},
   "outputs": [
    {
     "name": "stdout",
     "output_type": "stream",
     "text": [
      "86\n",
      "7396\n"
     ]
    }
   ],
   "source": [
    "## task 5\n",
    "\n",
    "t = int(input())\n",
    "if t%2 == 0:\n",
    "    if t>10:\n",
    "        print(t**2)\n",
    "else:\n",
    "    print('odd')\n",
    "    \n",
    "    \n",
    "    "
   ]
  },
  {
   "cell_type": "code",
   "execution_count": null,
   "metadata": {},
   "outputs": [],
   "source": []
  },
  {
   "cell_type": "markdown",
   "metadata": {},
   "source": [
    "## Control Statements or Loops\n",
    "\n",
    "- for\n",
    "- while\n",
    "- nested for\n",
    "- nested while\n"
   ]
  },
  {
   "cell_type": "markdown",
   "metadata": {},
   "source": [
    "- loop\n",
    "    - It is a sequence of instructions which are repeated as long as the condition false\n",
    "- for loop\n",
    "    - which is used to iterate particular task or statements into multiple times\n",
    "    - Syntax:\n",
    "        - for variable in range(start,end,step):\n",
    "              statements\n",
    "       "
   ]
  },
  {
   "cell_type": "code",
   "execution_count": 20,
   "metadata": {},
   "outputs": [
    {
     "name": "stdout",
     "output_type": "stream",
     "text": [
      "0\n",
      "1\n",
      "2\n",
      "3\n"
     ]
    }
   ],
   "source": [
    "for i in range(4):\n",
    "    print(i)\n",
    "    "
   ]
  },
  {
   "cell_type": "code",
   "execution_count": 24,
   "metadata": {},
   "outputs": [
    {
     "name": "stdout",
     "output_type": "stream",
     "text": [
      "1\n",
      "2\n",
      "3\n",
      "4\n",
      "5\n",
      "6\n",
      "7\n",
      "8\n",
      "9\n"
     ]
    }
   ],
   "source": [
    "for j in range(1,10):\n",
    "    print(j)"
   ]
  },
  {
   "cell_type": "code",
   "execution_count": 22,
   "metadata": {},
   "outputs": [
    {
     "name": "stdout",
     "output_type": "stream",
     "text": [
      "1\n",
      "6\n",
      "11\n",
      "16\n",
      "21\n",
      "26\n",
      "31\n",
      "36\n",
      "41\n",
      "46\n"
     ]
    }
   ],
   "source": [
    "for s in range(1,50,5):\n",
    "    print(s)"
   ]
  },
  {
   "cell_type": "code",
   "execution_count": 25,
   "metadata": {},
   "outputs": [
    {
     "name": "stdout",
     "output_type": "stream",
     "text": [
      "1\n",
      "2\n",
      "3\n",
      "4\n",
      "5\n",
      "6\n",
      "7\n",
      "8\n",
      "9\n",
      "10\n"
     ]
    }
   ],
   "source": [
    "for num in range(1,11):\n",
    "    print(num)"
   ]
  },
  {
   "cell_type": "code",
   "execution_count": 28,
   "metadata": {},
   "outputs": [
    {
     "name": "stdout",
     "output_type": "stream",
     "text": [
      "1 2 3 4 5 6 7 8 9 10 "
     ]
    }
   ],
   "source": [
    "for num in range(1,11):\n",
    "    print(num, end=' ')"
   ]
  },
  {
   "cell_type": "code",
   "execution_count": 31,
   "metadata": {},
   "outputs": [
    {
     "name": "stdout",
     "output_type": "stream",
     "text": [
      "10 9 8 7 6 5 4 3 2 1 "
     ]
    }
   ],
   "source": [
    "for n in range(10,0,-1):\n",
    "    print(n,end=' ')"
   ]
  },
  {
   "cell_type": "code",
   "execution_count": 32,
   "metadata": {},
   "outputs": [
    {
     "data": {
      "text/plain": [
       "97"
      ]
     },
     "execution_count": 32,
     "metadata": {},
     "output_type": "execute_result"
    }
   ],
   "source": [
    "ord('a')"
   ]
  },
  {
   "cell_type": "code",
   "execution_count": 33,
   "metadata": {},
   "outputs": [
    {
     "data": {
      "text/plain": [
       "122"
      ]
     },
     "execution_count": 33,
     "metadata": {},
     "output_type": "execute_result"
    }
   ],
   "source": [
    "ord('z')"
   ]
  },
  {
   "cell_type": "code",
   "execution_count": 34,
   "metadata": {},
   "outputs": [
    {
     "data": {
      "text/plain": [
       "'b'"
      ]
     },
     "execution_count": 34,
     "metadata": {},
     "output_type": "execute_result"
    }
   ],
   "source": [
    "chr(98)"
   ]
  },
  {
   "cell_type": "code",
   "execution_count": 36,
   "metadata": {},
   "outputs": [
    {
     "name": "stdout",
     "output_type": "stream",
     "text": [
      "a b c d e f g h i j k l m n o p q r s t u v w x y z "
     ]
    }
   ],
   "source": [
    "for a in range(97,123):\n",
    "    print(chr(a),end=' ')"
   ]
  },
  {
   "cell_type": "code",
   "execution_count": 37,
   "metadata": {},
   "outputs": [
    {
     "data": {
      "text/plain": [
       "65"
      ]
     },
     "execution_count": 37,
     "metadata": {},
     "output_type": "execute_result"
    }
   ],
   "source": [
    "ord('A')"
   ]
  },
  {
   "cell_type": "code",
   "execution_count": 38,
   "metadata": {},
   "outputs": [
    {
     "data": {
      "text/plain": [
       "90"
      ]
     },
     "execution_count": 38,
     "metadata": {},
     "output_type": "execute_result"
    }
   ],
   "source": [
    "ord('Z')"
   ]
  },
  {
   "cell_type": "code",
   "execution_count": 39,
   "metadata": {},
   "outputs": [
    {
     "name": "stdout",
     "output_type": "stream",
     "text": [
      "A B C D E F G H I J K L M N O P Q R S T U V W X Y Z "
     ]
    }
   ],
   "source": [
    "for a in range(65,91):\n",
    "    print(chr(a),end=' ')"
   ]
  },
  {
   "cell_type": "code",
   "execution_count": 40,
   "metadata": {},
   "outputs": [
    {
     "data": {
      "text/plain": [
       "32"
      ]
     },
     "execution_count": 40,
     "metadata": {},
     "output_type": "execute_result"
    }
   ],
   "source": [
    "ord(' ')"
   ]
  },
  {
   "cell_type": "code",
   "execution_count": 41,
   "metadata": {},
   "outputs": [
    {
     "name": "stdout",
     "output_type": "stream",
     "text": [
      "Sai Kiran Sai Kiran Sai Kiran Sai Kiran Sai Kiran Sai Kiran Sai Kiran Sai Kiran Sai Kiran Sai Kiran Sai Kiran Sai Kiran Sai Kiran Sai Kiran Sai Kiran Sai Kiran Sai Kiran Sai Kiran Sai Kiran Sai Kiran Sai Kiran Sai Kiran Sai Kiran Sai Kiran Sai Kiran Sai Kiran Sai Kiran Sai Kiran Sai Kiran Sai Kiran Sai Kiran Sai Kiran Sai Kiran Sai Kiran Sai Kiran Sai Kiran Sai Kiran Sai Kiran Sai Kiran Sai Kiran Sai Kiran Sai Kiran Sai Kiran Sai Kiran Sai Kiran Sai Kiran Sai Kiran Sai Kiran Sai Kiran Sai Kiran Sai Kiran Sai Kiran Sai Kiran Sai Kiran Sai Kiran Sai Kiran Sai Kiran Sai Kiran Sai Kiran Sai Kiran Sai Kiran Sai Kiran Sai Kiran Sai Kiran Sai Kiran Sai Kiran Sai Kiran Sai Kiran Sai Kiran Sai Kiran Sai Kiran Sai Kiran Sai Kiran Sai Kiran Sai Kiran Sai Kiran Sai Kiran Sai Kiran Sai Kiran Sai Kiran Sai Kiran Sai Kiran Sai Kiran Sai Kiran Sai Kiran Sai Kiran Sai Kiran Sai Kiran Sai Kiran Sai Kiran Sai Kiran Sai Kiran Sai Kiran Sai Kiran Sai Kiran Sai Kiran Sai Kiran Sai Kiran Sai Kiran Sai Kiran "
     ]
    }
   ],
   "source": [
    "for i in range(1,101):\n",
    "    print('Sai Kiran',end=' ')"
   ]
  },
  {
   "cell_type": "code",
   "execution_count": 50,
   "metadata": {},
   "outputs": [
    {
     "name": "stdout",
     "output_type": "stream",
     "text": [
      "sai kiran\n",
      "sai kiran\n",
      "sai kiran\n",
      "sai kiran\n",
      "sai kiran\n",
      "sai kiran\n",
      "sai kiran\n",
      "sai kiran\n",
      "sai kiran\n"
     ]
    }
   ],
   "source": [
    "print('sai kiran')\n",
    "print('sai kiran')\n",
    "print('sai kiran')\n",
    "print('sai kiran')\n",
    "print('sai kiran')\n",
    "print('sai kiran')\n",
    "print('sai kiran')\n",
    "print('sai kiran')\n",
    "print('sai kiran')"
   ]
  },
  {
   "cell_type": "code",
   "execution_count": 43,
   "metadata": {},
   "outputs": [
    {
     "name": "stdout",
     "output_type": "stream",
     "text": [
      "sai\n"
     ]
    },
    {
     "data": {
      "text/plain": [
       "'saisaisaisaisaisaisaisaisaisaisaisaisaisaisaisaisaisaisaisaisaisaisaisaisaisaisaisaisaisaisaisaisaisaisaisaisaisaisaisaisaisaisaisaisaisaisaisaisaisaisaisaisaisaisaisaisaisaisaisaisaisaisaisaisaisaisaisaisaisaisaisaisaisaisaisaisaisaisaisaisaisaisaisaisaisaisaisaisaisaisaisaisaisaisaisaisaisaisaisai'"
      ]
     },
     "execution_count": 43,
     "metadata": {},
     "output_type": "execute_result"
    }
   ],
   "source": [
    "s = input()\n",
    "s*100"
   ]
  },
  {
   "cell_type": "code",
   "execution_count": 48,
   "metadata": {},
   "outputs": [
    {
     "name": "stdout",
     "output_type": "stream",
     "text": [
      "B\n",
      "h\n"
     ]
    }
   ],
   "source": [
    "## Bharathi\n",
    "print(chr(66))\n",
    "print(chr(104))"
   ]
  },
  {
   "cell_type": "code",
   "execution_count": 46,
   "metadata": {},
   "outputs": [
    {
     "data": {
      "text/plain": [
       "104"
      ]
     },
     "execution_count": 46,
     "metadata": {},
     "output_type": "execute_result"
    }
   ],
   "source": [
    "ord('h')"
   ]
  },
  {
   "cell_type": "code",
   "execution_count": 49,
   "metadata": {},
   "outputs": [
    {
     "name": "stdout",
     "output_type": "stream",
     "text": [
      "0\n",
      "1\n",
      "2\n",
      "3\n",
      "4\n",
      "5\n",
      "6\n"
     ]
    }
   ],
   "source": [
    "for t in range(7):\n",
    "    print(t)"
   ]
  },
  {
   "cell_type": "code",
   "execution_count": 56,
   "metadata": {},
   "outputs": [
    {
     "name": "stdout",
     "output_type": "stream",
     "text": [
      "['False', 'None', 'True', 'and', 'as', 'assert', 'async', 'await', 'break', 'class', 'continue', 'def', 'del', 'elif', 'else', 'except', 'finally', 'for', 'from', 'global', 'if', 'import', 'in', 'is', 'lambda', 'nonlocal', 'not', 'or', 'pass', 'raise', 'return', 'try', 'while', 'with', 'yield'] "
     ]
    }
   ],
   "source": [
    "import keyword\n",
    "print(keyword.kwlist,end=' ')"
   ]
  },
  {
   "cell_type": "code",
   "execution_count": null,
   "metadata": {},
   "outputs": [],
   "source": [
    "markdown code -- esc+y\n",
    "code markdown -- esc+m"
   ]
  },
  {
   "cell_type": "code",
   "execution_count": null,
   "metadata": {},
   "outputs": [],
   "source": [
    "0 -- False\n",
    "1 -- True\n"
   ]
  },
  {
   "cell_type": "code",
   "execution_count": null,
   "metadata": {},
   "outputs": [],
   "source": [
    "else:\n",
    "    if \n",
    "    else\n",
    "    "
   ]
  },
  {
   "cell_type": "code",
   "execution_count": null,
   "metadata": {},
   "outputs": [],
   "source": [
    "13\n",
    "12\n",
    "11\n",
    "8\n",
    "5\n"
   ]
  },
  {
   "cell_type": "code",
   "execution_count": null,
   "metadata": {},
   "outputs": [],
   "source": [
    "8 4 2 1\n",
    "\n",
    "0 1 0 1 -->5\n",
    "1 1 0 1\n",
    "\n",
    "\n",
    "\n"
   ]
  }
 ],
 "metadata": {
  "kernelspec": {
   "display_name": "Python 3",
   "language": "python",
   "name": "python3"
  },
  "language_info": {
   "codemirror_mode": {
    "name": "ipython",
    "version": 3
   },
   "file_extension": ".py",
   "mimetype": "text/x-python",
   "name": "python",
   "nbconvert_exporter": "python",
   "pygments_lexer": "ipython3",
   "version": "3.8.3"
  }
 },
 "nbformat": 4,
 "nbformat_minor": 4
}
